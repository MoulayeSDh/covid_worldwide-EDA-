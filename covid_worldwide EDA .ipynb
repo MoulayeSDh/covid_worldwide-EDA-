{
 "cells": [
  {
   "cell_type": "code",
   "execution_count": 113,
   "id": "cd0fe5b4",
   "metadata": {},
   "outputs": [],
   "source": [
    "import numpy as np\n",
    "import pandas as pd\n",
    "import matplotlib.pyplot as plt\n",
    "import plotly.express as px\n",
    "import seaborn as sns"
   ]
  },
  {
   "cell_type": "code",
   "execution_count": 114,
   "id": "045f35d9",
   "metadata": {},
   "outputs": [
    {
     "data": {
      "text/html": [
       "<div>\n",
       "<style scoped>\n",
       "    .dataframe tbody tr th:only-of-type {\n",
       "        vertical-align: middle;\n",
       "    }\n",
       "\n",
       "    .dataframe tbody tr th {\n",
       "        vertical-align: top;\n",
       "    }\n",
       "\n",
       "    .dataframe thead th {\n",
       "        text-align: right;\n",
       "    }\n",
       "</style>\n",
       "<table border=\"1\" class=\"dataframe\">\n",
       "  <thead>\n",
       "    <tr style=\"text-align: right;\">\n",
       "      <th></th>\n",
       "      <th>Serial Number</th>\n",
       "      <th>Country</th>\n",
       "      <th>Total Cases</th>\n",
       "      <th>Total Deaths</th>\n",
       "      <th>Total Recovered</th>\n",
       "      <th>Active Cases</th>\n",
       "      <th>Total Test</th>\n",
       "      <th>Population</th>\n",
       "    </tr>\n",
       "  </thead>\n",
       "  <tbody>\n",
       "    <tr>\n",
       "      <th>0</th>\n",
       "      <td>1</td>\n",
       "      <td>USA</td>\n",
       "      <td>104,196,861</td>\n",
       "      <td>1,132,935</td>\n",
       "      <td>101,322,779</td>\n",
       "      <td>1,741,147</td>\n",
       "      <td>1,159,832,679</td>\n",
       "      <td>334,805,269</td>\n",
       "    </tr>\n",
       "    <tr>\n",
       "      <th>1</th>\n",
       "      <td>2</td>\n",
       "      <td>India</td>\n",
       "      <td>44,682,784</td>\n",
       "      <td>530,740</td>\n",
       "      <td>44,150,289</td>\n",
       "      <td>1,755</td>\n",
       "      <td>915,265,788</td>\n",
       "      <td>1,406,631,776</td>\n",
       "    </tr>\n",
       "    <tr>\n",
       "      <th>2</th>\n",
       "      <td>3</td>\n",
       "      <td>France</td>\n",
       "      <td>39,524,311</td>\n",
       "      <td>164,233</td>\n",
       "      <td>39,264,546</td>\n",
       "      <td>95,532</td>\n",
       "      <td>271,490,188</td>\n",
       "      <td>65,584,518</td>\n",
       "    </tr>\n",
       "    <tr>\n",
       "      <th>3</th>\n",
       "      <td>4</td>\n",
       "      <td>Germany</td>\n",
       "      <td>37,779,833</td>\n",
       "      <td>165,711</td>\n",
       "      <td>37,398,100</td>\n",
       "      <td>216,022</td>\n",
       "      <td>122,332,384</td>\n",
       "      <td>83,883,596</td>\n",
       "    </tr>\n",
       "    <tr>\n",
       "      <th>4</th>\n",
       "      <td>5</td>\n",
       "      <td>Brazil</td>\n",
       "      <td>36,824,580</td>\n",
       "      <td>697,074</td>\n",
       "      <td>35,919,372</td>\n",
       "      <td>208,134</td>\n",
       "      <td>63,776,166</td>\n",
       "      <td>215,353,593</td>\n",
       "    </tr>\n",
       "  </tbody>\n",
       "</table>\n",
       "</div>"
      ],
      "text/plain": [
       "   Serial Number  Country  Total Cases Total Deaths Total Recovered  \\\n",
       "0              1      USA  104,196,861    1,132,935     101,322,779   \n",
       "1              2    India   44,682,784      530,740      44,150,289   \n",
       "2              3   France   39,524,311      164,233      39,264,546   \n",
       "3              4  Germany   37,779,833      165,711      37,398,100   \n",
       "4              5   Brazil   36,824,580      697,074      35,919,372   \n",
       "\n",
       "  Active Cases     Total Test     Population  \n",
       "0    1,741,147  1,159,832,679    334,805,269  \n",
       "1        1,755    915,265,788  1,406,631,776  \n",
       "2       95,532    271,490,188     65,584,518  \n",
       "3      216,022    122,332,384     83,883,596  \n",
       "4      208,134     63,776,166    215,353,593  "
      ]
     },
     "execution_count": 114,
     "metadata": {},
     "output_type": "execute_result"
    }
   ],
   "source": [
    "covid=pd.read_csv('covid_worldwide.csv',index_col=False)\n",
    "covid.head()"
   ]
  },
  {
   "cell_type": "code",
   "execution_count": 115,
   "id": "0d0d87b2",
   "metadata": {},
   "outputs": [
    {
     "data": {
      "text/plain": [
       "(231, 8)"
      ]
     },
     "execution_count": 115,
     "metadata": {},
     "output_type": "execute_result"
    }
   ],
   "source": [
    "covid.shape"
   ]
  },
  {
   "cell_type": "code",
   "execution_count": 116,
   "id": "7ec62f37",
   "metadata": {},
   "outputs": [
    {
     "name": "stdout",
     "output_type": "stream",
     "text": [
      "<class 'pandas.core.frame.DataFrame'>\n",
      "RangeIndex: 231 entries, 0 to 230\n",
      "Data columns (total 8 columns):\n",
      " #   Column           Non-Null Count  Dtype \n",
      "---  ------           --------------  ----- \n",
      " 0   Serial Number    231 non-null    int64 \n",
      " 1   Country          231 non-null    object\n",
      " 2   Total Cases      231 non-null    object\n",
      " 3   Total Deaths     225 non-null    object\n",
      " 4   Total Recovered  210 non-null    object\n",
      " 5   Active Cases     212 non-null    object\n",
      " 6   Total Test       213 non-null    object\n",
      " 7   Population       228 non-null    object\n",
      "dtypes: int64(1), object(7)\n",
      "memory usage: 14.6+ KB\n"
     ]
    }
   ],
   "source": [
    "covid.info()"
   ]
  },
  {
   "cell_type": "code",
   "execution_count": 117,
   "id": "079d8d96",
   "metadata": {},
   "outputs": [],
   "source": [
    "covid.drop('Serial Number', axis=1, inplace=True)"
   ]
  },
  {
   "cell_type": "code",
   "execution_count": 118,
   "id": "b3728098",
   "metadata": {},
   "outputs": [
    {
     "data": {
      "text/plain": [
       "Country            object\n",
       "Total Cases        object\n",
       "Total Deaths       object\n",
       "Total Recovered    object\n",
       "Active Cases       object\n",
       "Total Test         object\n",
       "Population         object\n",
       "dtype: object"
      ]
     },
     "execution_count": 118,
     "metadata": {},
     "output_type": "execute_result"
    }
   ],
   "source": [
    "covid.dtypes"
   ]
  },
  {
   "cell_type": "code",
   "execution_count": 119,
   "id": "2c84a0c3",
   "metadata": {},
   "outputs": [
    {
     "data": {
      "text/plain": [
       "count     231\n",
       "unique    231\n",
       "top       USA\n",
       "freq        1\n",
       "Name: Country, dtype: object"
      ]
     },
     "execution_count": 119,
     "metadata": {},
     "output_type": "execute_result"
    }
   ],
   "source": [
    "covid.Country.describe()"
   ]
  },
  {
   "cell_type": "code",
   "execution_count": 120,
   "id": "c75ae73a",
   "metadata": {},
   "outputs": [
    {
     "data": {
      "text/plain": [
       "array(['USA', 'India', 'France', 'Germany', 'Brazil', 'Japan', 'S. Korea',\n",
       "       'Italy', 'UK', 'Russia', 'Turkey', 'Spain', 'Vietnam', 'Australia',\n",
       "       'Argentina', 'Taiwan', 'Netherlands', 'Iran', 'Mexico',\n",
       "       'Indonesia', 'Poland', 'Colombia', 'Austria', 'Greece', 'Portugal',\n",
       "       'Ukraine', 'Chile', 'Malaysia', 'Israel', 'DPRK', 'Thailand',\n",
       "       'Belgium', 'Czechia', 'Canada', 'Peru', 'Switzerland',\n",
       "       'Philippines', 'South Africa', 'Romania', 'Denmark', 'Hong Kong',\n",
       "       'Sweden', 'Serbia', 'Iraq', 'Singapore', 'Hungary', 'New Zealand',\n",
       "       'Bangladesh', 'Slovakia', 'Georgia', 'Jordan', 'Ireland',\n",
       "       'Pakistan', 'Norway', 'Finland', 'Kazakhstan', 'Slovenia',\n",
       "       'Lithuania', 'Bulgaria', 'Morocco', 'Croatia', 'Lebanon',\n",
       "       'Guatemala', 'Bolivia', 'Costa Rica', 'Tunisia', 'Cuba', 'Ecuador',\n",
       "       'UAE', 'Uruguay', 'Panama', 'Mongolia', 'Nepal', 'Belarus',\n",
       "       'Latvia', 'Saudi Arabia', 'Azerbaijan', 'Paraguay', 'Bahrain',\n",
       "       'Sri Lanka', 'Kuwait', 'Dominican Republic', 'Cyprus', 'Myanmar',\n",
       "       'Palestine', 'Estonia', 'Moldova', 'Venezuela', 'Egypt', 'Libya',\n",
       "       'China', 'Ethiopia', 'Qatar', 'Réunion', 'Honduras', 'Armenia',\n",
       "       'Bosnia and Herzegovina', 'Oman', 'North Macedonia', 'Kenya',\n",
       "       'Zambia', 'Albania', 'Botswana', 'Luxembourg', 'Montenegro',\n",
       "       'Brunei', 'Algeria', 'Nigeria', 'Zimbabwe', 'Uzbekistan',\n",
       "       'Mozambique', 'Martinique', 'Laos', 'Iceland', 'Afghanistan',\n",
       "       'Kyrgyzstan', 'El Salvador', 'Guadeloupe', 'Trinidad and Tobago',\n",
       "       'Maldives', 'Ghana', 'Namibia', 'Uganda', 'Jamaica', 'Cambodia',\n",
       "       'Rwanda', 'Cameroon', 'Malta', 'Barbados', 'Angola',\n",
       "       'Channel Islands', 'French Guiana', 'DRC', 'Senegal', 'Malawi',\n",
       "       'Ivory Coast', 'Suriname', 'New Caledonia', 'French Polynesia',\n",
       "       'Eswatini', 'Guyana', 'Belize', 'Fiji', 'Madagascar', 'Sudan',\n",
       "       'Mauritania', 'Cabo Verde', 'Bhutan', 'Syria', 'Burundi',\n",
       "       'Seychelles', 'Gabon', 'Andorra', 'Papua New Guinea', 'Curaçao',\n",
       "       'Aruba', 'Tanzania', 'Mayotte', 'Mauritius', 'Togo', 'Guinea',\n",
       "       'Isle of Man', 'Bahamas', 'Lesotho', 'Faeroe Islands', 'Haiti',\n",
       "       'Mali', 'Cayman Islands', 'Saint Lucia', 'Benin', 'Somalia',\n",
       "       'Congo', 'Solomon Islands', 'San Marino', 'Timor-Leste',\n",
       "       'Micronesia', 'Burkina Faso', 'Liechtenstein', 'Gibraltar',\n",
       "       'Grenada', 'Bermuda', 'Nicaragua', 'South Sudan', 'Tajikistan',\n",
       "       'Equatorial Guinea', 'Tonga', 'Samoa', 'Monaco', 'Dominica',\n",
       "       'Djibouti', 'Marshall Islands', 'CAR', 'Gambia', 'Saint Martin',\n",
       "       'Vanuatu', 'Greenland', 'Yemen', 'Caribbean Netherlands',\n",
       "       'Sint Maarten', 'Eritrea', 'Niger', 'St. Vincent Grenadines',\n",
       "       'Antigua and Barbuda', 'Comoros', 'Guinea-Bissau', 'Liberia',\n",
       "       'Sierra Leone', 'Chad', 'British Virgin Islands', 'Cook Islands',\n",
       "       'Saint Kitts and Nevis', 'Turks and Caicos',\n",
       "       'Sao Tome and Principe', 'Palau', 'St. Barth', 'Kiribati', 'Nauru',\n",
       "       'Anguilla', 'Macao', 'Saint Pierre Miquelon', 'Wallis and Futuna',\n",
       "       'Tuvalu', 'Saint Helena', 'Falkland Islands', 'Montserrat', 'Niue',\n",
       "       'Diamond Princess', 'Vatican City', 'Western Sahara', 'MS Zaandam',\n",
       "       'Tokelau'], dtype=object)"
      ]
     },
     "metadata": {},
     "output_type": "display_data"
    }
   ],
   "source": [
    "display(covid.Country.values)\n"
   ]
  },
  {
   "cell_type": "code",
   "execution_count": 121,
   "id": "aa90e0a2",
   "metadata": {},
   "outputs": [],
   "source": [
    "#changing types from object to float \n",
    "covid['Total Cases']=covid['Total Cases'].str.replace(',', '', regex=True).astype(\"float\")\n",
    "covid['Total Deaths']=covid['Total Deaths'].str.replace(',', '', regex=True).astype(\"float\")\n",
    "covid['Total Recovered']=covid['Total Recovered'].str.replace(',', '', regex=True).astype(\"float\")\n",
    "covid['Active Cases']=covid['Active Cases'].str.replace(',', '', regex=True).astype(\"float\")\n",
    "covid['Total Test']=covid['Total Test'].str.replace(',', '', regex=True).astype(\"float\")\n",
    "covid['Population']=covid['Population'].str.replace(',', '', regex=True).astype(\"float\")"
   ]
  },
  {
   "cell_type": "code",
   "execution_count": 122,
   "id": "155409cd",
   "metadata": {},
   "outputs": [
    {
     "data": {
      "text/plain": [
       "Country            0.000000\n",
       "Total Cases        0.000000\n",
       "Total Deaths       2.597403\n",
       "Total Recovered    9.090909\n",
       "Active Cases       8.225108\n",
       "Total Test         7.792208\n",
       "Population         1.298701\n",
       "dtype: float64"
      ]
     },
     "execution_count": 122,
     "metadata": {},
     "output_type": "execute_result"
    }
   ],
   "source": [
    "# missing value in %\n",
    "covid.isnull().sum()/covid.shape[0]*100"
   ]
  },
  {
   "cell_type": "code",
   "execution_count": 123,
   "id": "b30b758a",
   "metadata": {},
   "outputs": [
    {
     "data": {
      "text/plain": [
       "Country             0\n",
       "Total Cases         0\n",
       "Total Deaths        6\n",
       "Total Recovered    21\n",
       "Active Cases       19\n",
       "Total Test         18\n",
       "Population          3\n",
       "dtype: int64"
      ]
     },
     "execution_count": 123,
     "metadata": {},
     "output_type": "execute_result"
    }
   ],
   "source": [
    "covid.isnull().sum()"
   ]
  },
  {
   "cell_type": "code",
   "execution_count": 124,
   "id": "e8605344",
   "metadata": {},
   "outputs": [
    {
     "data": {
      "text/html": [
       "<div>\n",
       "<style scoped>\n",
       "    .dataframe tbody tr th:only-of-type {\n",
       "        vertical-align: middle;\n",
       "    }\n",
       "\n",
       "    .dataframe tbody tr th {\n",
       "        vertical-align: top;\n",
       "    }\n",
       "\n",
       "    .dataframe thead th {\n",
       "        text-align: right;\n",
       "    }\n",
       "</style>\n",
       "<table border=\"1\" class=\"dataframe\">\n",
       "  <thead>\n",
       "    <tr style=\"text-align: right;\">\n",
       "      <th></th>\n",
       "      <th>Country</th>\n",
       "      <th>Total Cases</th>\n",
       "      <th>Total Deaths</th>\n",
       "      <th>Total Recovered</th>\n",
       "      <th>Active Cases</th>\n",
       "      <th>Total Test</th>\n",
       "      <th>Population</th>\n",
       "    </tr>\n",
       "  </thead>\n",
       "  <tbody>\n",
       "    <tr>\n",
       "      <th>90</th>\n",
       "      <td>China</td>\n",
       "      <td>503302.0</td>\n",
       "      <td>5272.0</td>\n",
       "      <td>379053.0</td>\n",
       "      <td>118977.0</td>\n",
       "      <td>160000000.0</td>\n",
       "      <td>NaN</td>\n",
       "    </tr>\n",
       "    <tr>\n",
       "      <th>226</th>\n",
       "      <td>Diamond Princess</td>\n",
       "      <td>712.0</td>\n",
       "      <td>13.0</td>\n",
       "      <td>699.0</td>\n",
       "      <td>0.0</td>\n",
       "      <td>NaN</td>\n",
       "      <td>NaN</td>\n",
       "    </tr>\n",
       "    <tr>\n",
       "      <th>229</th>\n",
       "      <td>MS Zaandam</td>\n",
       "      <td>9.0</td>\n",
       "      <td>2.0</td>\n",
       "      <td>7.0</td>\n",
       "      <td>0.0</td>\n",
       "      <td>NaN</td>\n",
       "      <td>NaN</td>\n",
       "    </tr>\n",
       "  </tbody>\n",
       "</table>\n",
       "</div>"
      ],
      "text/plain": [
       "              Country  Total Cases  Total Deaths  Total Recovered  \\\n",
       "90              China     503302.0        5272.0         379053.0   \n",
       "226  Diamond Princess        712.0          13.0            699.0   \n",
       "229        MS Zaandam          9.0           2.0              7.0   \n",
       "\n",
       "     Active Cases   Total Test  Population  \n",
       "90       118977.0  160000000.0         NaN  \n",
       "226           0.0          NaN         NaN  \n",
       "229           0.0          NaN         NaN  "
      ]
     },
     "execution_count": 124,
     "metadata": {},
     "output_type": "execute_result"
    }
   ],
   "source": [
    "covid[covid['Population'].isnull()]"
   ]
  },
  {
   "cell_type": "code",
   "execution_count": 125,
   "id": "cbbaddb7",
   "metadata": {},
   "outputs": [],
   "source": [
    "#using internet to Fill missing data\n",
    "covid.loc[90,'Population']=1439323776\n",
    "covid.loc[226,'Population']=2666\n",
    "covid.loc[229,'Population']=2047"
   ]
  },
  {
   "cell_type": "code",
   "execution_count": 126,
   "id": "dc34321a",
   "metadata": {},
   "outputs": [],
   "source": [
    "covid['Total Deaths'].fillna(0, inplace=True)"
   ]
  },
  {
   "cell_type": "code",
   "execution_count": 127,
   "id": "628e75f3",
   "metadata": {},
   "outputs": [
    {
     "data": {
      "text/html": [
       "<div>\n",
       "<style scoped>\n",
       "    .dataframe tbody tr th:only-of-type {\n",
       "        vertical-align: middle;\n",
       "    }\n",
       "\n",
       "    .dataframe tbody tr th {\n",
       "        vertical-align: top;\n",
       "    }\n",
       "\n",
       "    .dataframe thead th {\n",
       "        text-align: right;\n",
       "    }\n",
       "</style>\n",
       "<table border=\"1\" class=\"dataframe\">\n",
       "  <thead>\n",
       "    <tr style=\"text-align: right;\">\n",
       "      <th></th>\n",
       "      <th>Country</th>\n",
       "      <th>Total Cases</th>\n",
       "      <th>Total Deaths</th>\n",
       "      <th>Total Recovered</th>\n",
       "      <th>Active Cases</th>\n",
       "      <th>Total Test</th>\n",
       "      <th>Population</th>\n",
       "    </tr>\n",
       "  </thead>\n",
       "  <tbody>\n",
       "    <tr>\n",
       "      <th>10</th>\n",
       "      <td>Turkey</td>\n",
       "      <td>17042722.0</td>\n",
       "      <td>101492.0</td>\n",
       "      <td>NaN</td>\n",
       "      <td>NaN</td>\n",
       "      <td>162743369.0</td>\n",
       "      <td>85561976.0</td>\n",
       "    </tr>\n",
       "    <tr>\n",
       "      <th>65</th>\n",
       "      <td>Tunisia</td>\n",
       "      <td>1150356.0</td>\n",
       "      <td>29308.0</td>\n",
       "      <td>NaN</td>\n",
       "      <td>NaN</td>\n",
       "      <td>4997373.0</td>\n",
       "      <td>12046656.0</td>\n",
       "    </tr>\n",
       "    <tr>\n",
       "      <th>77</th>\n",
       "      <td>Paraguay</td>\n",
       "      <td>806256.0</td>\n",
       "      <td>19820.0</td>\n",
       "      <td>NaN</td>\n",
       "      <td>NaN</td>\n",
       "      <td>2657506.0</td>\n",
       "      <td>7305843.0</td>\n",
       "    </tr>\n",
       "    <tr>\n",
       "      <th>94</th>\n",
       "      <td>Honduras</td>\n",
       "      <td>470757.0</td>\n",
       "      <td>11104.0</td>\n",
       "      <td>NaN</td>\n",
       "      <td>NaN</td>\n",
       "      <td>1619676.0</td>\n",
       "      <td>10221247.0</td>\n",
       "    </tr>\n",
       "    <tr>\n",
       "      <th>111</th>\n",
       "      <td>Martinique</td>\n",
       "      <td>229687.0</td>\n",
       "      <td>1097.0</td>\n",
       "      <td>NaN</td>\n",
       "      <td>NaN</td>\n",
       "      <td>828928.0</td>\n",
       "      <td>374087.0</td>\n",
       "    </tr>\n",
       "    <tr>\n",
       "      <th>112</th>\n",
       "      <td>Laos</td>\n",
       "      <td>217973.0</td>\n",
       "      <td>758.0</td>\n",
       "      <td>NaN</td>\n",
       "      <td>NaN</td>\n",
       "      <td>1233207.0</td>\n",
       "      <td>7481023.0</td>\n",
       "    </tr>\n",
       "    <tr>\n",
       "      <th>113</th>\n",
       "      <td>Iceland</td>\n",
       "      <td>208688.0</td>\n",
       "      <td>229.0</td>\n",
       "      <td>NaN</td>\n",
       "      <td>NaN</td>\n",
       "      <td>1996384.0</td>\n",
       "      <td>345393.0</td>\n",
       "    </tr>\n",
       "    <tr>\n",
       "      <th>117</th>\n",
       "      <td>Guadeloupe</td>\n",
       "      <td>201394.0</td>\n",
       "      <td>1007.0</td>\n",
       "      <td>NaN</td>\n",
       "      <td>NaN</td>\n",
       "      <td>938039.0</td>\n",
       "      <td>399794.0</td>\n",
       "    </tr>\n",
       "    <tr>\n",
       "      <th>136</th>\n",
       "      <td>Suriname</td>\n",
       "      <td>82020.0</td>\n",
       "      <td>1398.0</td>\n",
       "      <td>NaN</td>\n",
       "      <td>NaN</td>\n",
       "      <td>239603.0</td>\n",
       "      <td>596831.0</td>\n",
       "    </tr>\n",
       "    <tr>\n",
       "      <th>138</th>\n",
       "      <td>French Polynesia</td>\n",
       "      <td>77957.0</td>\n",
       "      <td>649.0</td>\n",
       "      <td>NaN</td>\n",
       "      <td>NaN</td>\n",
       "      <td>NaN</td>\n",
       "      <td>284164.0</td>\n",
       "    </tr>\n",
       "    <tr>\n",
       "      <th>156</th>\n",
       "      <td>Tanzania</td>\n",
       "      <td>42664.0</td>\n",
       "      <td>846.0</td>\n",
       "      <td>NaN</td>\n",
       "      <td>NaN</td>\n",
       "      <td>NaN</td>\n",
       "      <td>63298550.0</td>\n",
       "    </tr>\n",
       "    <tr>\n",
       "      <th>157</th>\n",
       "      <td>Mayotte</td>\n",
       "      <td>42002.0</td>\n",
       "      <td>188.0</td>\n",
       "      <td>NaN</td>\n",
       "      <td>NaN</td>\n",
       "      <td>176919.0</td>\n",
       "      <td>286259.0</td>\n",
       "    </tr>\n",
       "    <tr>\n",
       "      <th>161</th>\n",
       "      <td>Isle of Man</td>\n",
       "      <td>38008.0</td>\n",
       "      <td>116.0</td>\n",
       "      <td>NaN</td>\n",
       "      <td>NaN</td>\n",
       "      <td>150753.0</td>\n",
       "      <td>85732.0</td>\n",
       "    </tr>\n",
       "    <tr>\n",
       "      <th>164</th>\n",
       "      <td>Faeroe Islands</td>\n",
       "      <td>34658.0</td>\n",
       "      <td>28.0</td>\n",
       "      <td>NaN</td>\n",
       "      <td>NaN</td>\n",
       "      <td>778000.0</td>\n",
       "      <td>49233.0</td>\n",
       "    </tr>\n",
       "    <tr>\n",
       "      <th>172</th>\n",
       "      <td>Solomon Islands</td>\n",
       "      <td>24575.0</td>\n",
       "      <td>153.0</td>\n",
       "      <td>NaN</td>\n",
       "      <td>NaN</td>\n",
       "      <td>NaN</td>\n",
       "      <td>721159.0</td>\n",
       "    </tr>\n",
       "    <tr>\n",
       "      <th>175</th>\n",
       "      <td>Micronesia</td>\n",
       "      <td>22676.0</td>\n",
       "      <td>58.0</td>\n",
       "      <td>NaN</td>\n",
       "      <td>NaN</td>\n",
       "      <td>54967.0</td>\n",
       "      <td>117489.0</td>\n",
       "    </tr>\n",
       "    <tr>\n",
       "      <th>206</th>\n",
       "      <td>Sierra Leone</td>\n",
       "      <td>7760.0</td>\n",
       "      <td>126.0</td>\n",
       "      <td>NaN</td>\n",
       "      <td>NaN</td>\n",
       "      <td>259958.0</td>\n",
       "      <td>8306436.0</td>\n",
       "    </tr>\n",
       "    <tr>\n",
       "      <th>208</th>\n",
       "      <td>British Virgin Islands</td>\n",
       "      <td>7305.0</td>\n",
       "      <td>64.0</td>\n",
       "      <td>NaN</td>\n",
       "      <td>NaN</td>\n",
       "      <td>107339.0</td>\n",
       "      <td>30596.0</td>\n",
       "    </tr>\n",
       "    <tr>\n",
       "      <th>214</th>\n",
       "      <td>St. Barth</td>\n",
       "      <td>5420.0</td>\n",
       "      <td>6.0</td>\n",
       "      <td>NaN</td>\n",
       "      <td>NaN</td>\n",
       "      <td>78646.0</td>\n",
       "      <td>9945.0</td>\n",
       "    </tr>\n",
       "    <tr>\n",
       "      <th>221</th>\n",
       "      <td>Tuvalu</td>\n",
       "      <td>2805.0</td>\n",
       "      <td>0.0</td>\n",
       "      <td>NaN</td>\n",
       "      <td>2805.0</td>\n",
       "      <td>NaN</td>\n",
       "      <td>12066.0</td>\n",
       "    </tr>\n",
       "    <tr>\n",
       "      <th>230</th>\n",
       "      <td>Tokelau</td>\n",
       "      <td>5.0</td>\n",
       "      <td>0.0</td>\n",
       "      <td>NaN</td>\n",
       "      <td>5.0</td>\n",
       "      <td>NaN</td>\n",
       "      <td>1378.0</td>\n",
       "    </tr>\n",
       "  </tbody>\n",
       "</table>\n",
       "</div>"
      ],
      "text/plain": [
       "                    Country  Total Cases  Total Deaths  Total Recovered  \\\n",
       "10                   Turkey   17042722.0      101492.0              NaN   \n",
       "65                  Tunisia    1150356.0       29308.0              NaN   \n",
       "77                 Paraguay     806256.0       19820.0              NaN   \n",
       "94                 Honduras     470757.0       11104.0              NaN   \n",
       "111              Martinique     229687.0        1097.0              NaN   \n",
       "112                    Laos     217973.0         758.0              NaN   \n",
       "113                 Iceland     208688.0         229.0              NaN   \n",
       "117              Guadeloupe     201394.0        1007.0              NaN   \n",
       "136                Suriname      82020.0        1398.0              NaN   \n",
       "138        French Polynesia      77957.0         649.0              NaN   \n",
       "156                Tanzania      42664.0         846.0              NaN   \n",
       "157                 Mayotte      42002.0         188.0              NaN   \n",
       "161             Isle of Man      38008.0         116.0              NaN   \n",
       "164          Faeroe Islands      34658.0          28.0              NaN   \n",
       "172         Solomon Islands      24575.0         153.0              NaN   \n",
       "175              Micronesia      22676.0          58.0              NaN   \n",
       "206            Sierra Leone       7760.0         126.0              NaN   \n",
       "208  British Virgin Islands       7305.0          64.0              NaN   \n",
       "214               St. Barth       5420.0           6.0              NaN   \n",
       "221                  Tuvalu       2805.0           0.0              NaN   \n",
       "230                 Tokelau          5.0           0.0              NaN   \n",
       "\n",
       "     Active Cases   Total Test  Population  \n",
       "10            NaN  162743369.0  85561976.0  \n",
       "65            NaN    4997373.0  12046656.0  \n",
       "77            NaN    2657506.0   7305843.0  \n",
       "94            NaN    1619676.0  10221247.0  \n",
       "111           NaN     828928.0    374087.0  \n",
       "112           NaN    1233207.0   7481023.0  \n",
       "113           NaN    1996384.0    345393.0  \n",
       "117           NaN     938039.0    399794.0  \n",
       "136           NaN     239603.0    596831.0  \n",
       "138           NaN          NaN    284164.0  \n",
       "156           NaN          NaN  63298550.0  \n",
       "157           NaN     176919.0    286259.0  \n",
       "161           NaN     150753.0     85732.0  \n",
       "164           NaN     778000.0     49233.0  \n",
       "172           NaN          NaN    721159.0  \n",
       "175           NaN      54967.0    117489.0  \n",
       "206           NaN     259958.0   8306436.0  \n",
       "208           NaN     107339.0     30596.0  \n",
       "214           NaN      78646.0      9945.0  \n",
       "221        2805.0          NaN     12066.0  \n",
       "230           5.0          NaN      1378.0  "
      ]
     },
     "execution_count": 127,
     "metadata": {},
     "output_type": "execute_result"
    }
   ],
   "source": [
    "covid[covid['Total Recovered'].isnull()]"
   ]
  },
  {
   "cell_type": "code",
   "execution_count": 128,
   "id": "befbe255",
   "metadata": {},
   "outputs": [],
   "source": [
    "#missing info\n",
    "covid.dropna(inplace=True)"
   ]
  },
  {
   "cell_type": "code",
   "execution_count": 129,
   "id": "fedbecc9",
   "metadata": {},
   "outputs": [
    {
     "data": {
      "text/plain": [
       "(197, 7)"
      ]
     },
     "execution_count": 129,
     "metadata": {},
     "output_type": "execute_result"
    }
   ],
   "source": [
    "covid.shape"
   ]
  },
  {
   "cell_type": "code",
   "execution_count": 130,
   "id": "b0e77740",
   "metadata": {},
   "outputs": [
    {
     "data": {
      "text/html": [
       "<div>\n",
       "<style scoped>\n",
       "    .dataframe tbody tr th:only-of-type {\n",
       "        vertical-align: middle;\n",
       "    }\n",
       "\n",
       "    .dataframe tbody tr th {\n",
       "        vertical-align: top;\n",
       "    }\n",
       "\n",
       "    .dataframe thead th {\n",
       "        text-align: right;\n",
       "    }\n",
       "</style>\n",
       "<table border=\"1\" class=\"dataframe\">\n",
       "  <thead>\n",
       "    <tr style=\"text-align: right;\">\n",
       "      <th></th>\n",
       "      <th>Total Cases</th>\n",
       "      <th>Total Deaths</th>\n",
       "      <th>Total Recovered</th>\n",
       "      <th>Active Cases</th>\n",
       "      <th>Total Test</th>\n",
       "      <th>Population</th>\n",
       "    </tr>\n",
       "  </thead>\n",
       "  <tbody>\n",
       "    <tr>\n",
       "      <th>count</th>\n",
       "      <td>1.970000e+02</td>\n",
       "      <td>1.970000e+02</td>\n",
       "      <td>1.970000e+02</td>\n",
       "      <td>1.970000e+02</td>\n",
       "      <td>1.970000e+02</td>\n",
       "      <td>1.970000e+02</td>\n",
       "    </tr>\n",
       "    <tr>\n",
       "      <th>mean</th>\n",
       "      <td>3.298023e+06</td>\n",
       "      <td>3.347079e+04</td>\n",
       "      <td>3.166735e+06</td>\n",
       "      <td>9.781706e+04</td>\n",
       "      <td>3.422428e+07</td>\n",
       "      <td>3.905431e+07</td>\n",
       "    </tr>\n",
       "    <tr>\n",
       "      <th>std</th>\n",
       "      <td>1.014762e+07</td>\n",
       "      <td>1.119957e+05</td>\n",
       "      <td>9.800712e+06</td>\n",
       "      <td>7.947584e+05</td>\n",
       "      <td>1.217717e+08</td>\n",
       "      <td>1.484342e+08</td>\n",
       "    </tr>\n",
       "    <tr>\n",
       "      <th>min</th>\n",
       "      <td>1.403000e+03</td>\n",
       "      <td>0.000000e+00</td>\n",
       "      <td>4.380000e+02</td>\n",
       "      <td>0.000000e+00</td>\n",
       "      <td>7.850000e+03</td>\n",
       "      <td>3.539000e+03</td>\n",
       "    </tr>\n",
       "    <tr>\n",
       "      <th>25%</th>\n",
       "      <td>3.749100e+04</td>\n",
       "      <td>3.120000e+02</td>\n",
       "      <td>3.303300e+04</td>\n",
       "      <td>7.400000e+01</td>\n",
       "      <td>4.004660e+05</td>\n",
       "      <td>1.016097e+06</td>\n",
       "    </tr>\n",
       "    <tr>\n",
       "      <th>50%</th>\n",
       "      <td>2.977570e+05</td>\n",
       "      <td>3.155000e+03</td>\n",
       "      <td>2.889910e+05</td>\n",
       "      <td>1.253000e+03</td>\n",
       "      <td>2.610114e+06</td>\n",
       "      <td>6.844597e+06</td>\n",
       "    </tr>\n",
       "    <tr>\n",
       "      <th>75%</th>\n",
       "      <td>1.700253e+06</td>\n",
       "      <td>1.682800e+04</td>\n",
       "      <td>1.685183e+06</td>\n",
       "      <td>1.092600e+04</td>\n",
       "      <td>1.524701e+07</td>\n",
       "      <td>2.791155e+07</td>\n",
       "    </tr>\n",
       "    <tr>\n",
       "      <th>max</th>\n",
       "      <td>1.041969e+08</td>\n",
       "      <td>1.132935e+06</td>\n",
       "      <td>1.013228e+08</td>\n",
       "      <td>1.095262e+07</td>\n",
       "      <td>1.159833e+09</td>\n",
       "      <td>1.439324e+09</td>\n",
       "    </tr>\n",
       "  </tbody>\n",
       "</table>\n",
       "</div>"
      ],
      "text/plain": [
       "        Total Cases  Total Deaths  Total Recovered  Active Cases  \\\n",
       "count  1.970000e+02  1.970000e+02     1.970000e+02  1.970000e+02   \n",
       "mean   3.298023e+06  3.347079e+04     3.166735e+06  9.781706e+04   \n",
       "std    1.014762e+07  1.119957e+05     9.800712e+06  7.947584e+05   \n",
       "min    1.403000e+03  0.000000e+00     4.380000e+02  0.000000e+00   \n",
       "25%    3.749100e+04  3.120000e+02     3.303300e+04  7.400000e+01   \n",
       "50%    2.977570e+05  3.155000e+03     2.889910e+05  1.253000e+03   \n",
       "75%    1.700253e+06  1.682800e+04     1.685183e+06  1.092600e+04   \n",
       "max    1.041969e+08  1.132935e+06     1.013228e+08  1.095262e+07   \n",
       "\n",
       "         Total Test    Population  \n",
       "count  1.970000e+02  1.970000e+02  \n",
       "mean   3.422428e+07  3.905431e+07  \n",
       "std    1.217717e+08  1.484342e+08  \n",
       "min    7.850000e+03  3.539000e+03  \n",
       "25%    4.004660e+05  1.016097e+06  \n",
       "50%    2.610114e+06  6.844597e+06  \n",
       "75%    1.524701e+07  2.791155e+07  \n",
       "max    1.159833e+09  1.439324e+09  "
      ]
     },
     "execution_count": 130,
     "metadata": {},
     "output_type": "execute_result"
    }
   ],
   "source": [
    "covid.describe()"
   ]
  },
  {
   "cell_type": "code",
   "execution_count": 131,
   "id": "6beaad76",
   "metadata": {},
   "outputs": [],
   "source": [
    "covid['percentage of patients death']=(covid['Total Deaths']/covid['Total Cases'])"
   ]
  },
  {
   "cell_type": "code",
   "execution_count": 132,
   "id": "137a9455",
   "metadata": {},
   "outputs": [
    {
     "data": {
      "text/html": [
       "<div>\n",
       "<style scoped>\n",
       "    .dataframe tbody tr th:only-of-type {\n",
       "        vertical-align: middle;\n",
       "    }\n",
       "\n",
       "    .dataframe tbody tr th {\n",
       "        vertical-align: top;\n",
       "    }\n",
       "\n",
       "    .dataframe thead th {\n",
       "        text-align: right;\n",
       "    }\n",
       "</style>\n",
       "<table border=\"1\" class=\"dataframe\">\n",
       "  <thead>\n",
       "    <tr style=\"text-align: right;\">\n",
       "      <th></th>\n",
       "      <th>Country</th>\n",
       "      <th>Total Deaths</th>\n",
       "    </tr>\n",
       "  </thead>\n",
       "  <tbody>\n",
       "    <tr>\n",
       "      <th>0</th>\n",
       "      <td>USA</td>\n",
       "      <td>1132935.0</td>\n",
       "    </tr>\n",
       "    <tr>\n",
       "      <th>4</th>\n",
       "      <td>Brazil</td>\n",
       "      <td>697074.0</td>\n",
       "    </tr>\n",
       "    <tr>\n",
       "      <th>1</th>\n",
       "      <td>India</td>\n",
       "      <td>530740.0</td>\n",
       "    </tr>\n",
       "    <tr>\n",
       "      <th>9</th>\n",
       "      <td>Russia</td>\n",
       "      <td>395108.0</td>\n",
       "    </tr>\n",
       "    <tr>\n",
       "      <th>18</th>\n",
       "      <td>Mexico</td>\n",
       "      <td>332198.0</td>\n",
       "    </tr>\n",
       "    <tr>\n",
       "      <th>34</th>\n",
       "      <td>Peru</td>\n",
       "      <td>218931.0</td>\n",
       "    </tr>\n",
       "    <tr>\n",
       "      <th>8</th>\n",
       "      <td>UK</td>\n",
       "      <td>204171.0</td>\n",
       "    </tr>\n",
       "    <tr>\n",
       "      <th>7</th>\n",
       "      <td>Italy</td>\n",
       "      <td>186833.0</td>\n",
       "    </tr>\n",
       "    <tr>\n",
       "      <th>3</th>\n",
       "      <td>Germany</td>\n",
       "      <td>165711.0</td>\n",
       "    </tr>\n",
       "    <tr>\n",
       "      <th>2</th>\n",
       "      <td>France</td>\n",
       "      <td>164233.0</td>\n",
       "    </tr>\n",
       "  </tbody>\n",
       "</table>\n",
       "</div>"
      ],
      "text/plain": [
       "    Country  Total Deaths\n",
       "0       USA     1132935.0\n",
       "4    Brazil      697074.0\n",
       "1     India      530740.0\n",
       "9    Russia      395108.0\n",
       "18   Mexico      332198.0\n",
       "34     Peru      218931.0\n",
       "8        UK      204171.0\n",
       "7     Italy      186833.0\n",
       "3   Germany      165711.0\n",
       "2    France      164233.0"
      ]
     },
     "execution_count": 132,
     "metadata": {},
     "output_type": "execute_result"
    }
   ],
   "source": [
    "top_cases= covid[['Country','Total Deaths']].sort_values(by=\"Total Deaths\",ascending=False)[:10]\n",
    "top_cases"
   ]
  },
  {
   "cell_type": "code",
   "execution_count": 133,
   "id": "5f97d847",
   "metadata": {},
   "outputs": [
    {
     "data": {
      "text/html": [
       "<div>\n",
       "<style scoped>\n",
       "    .dataframe tbody tr th:only-of-type {\n",
       "        vertical-align: middle;\n",
       "    }\n",
       "\n",
       "    .dataframe tbody tr th {\n",
       "        vertical-align: top;\n",
       "    }\n",
       "\n",
       "    .dataframe thead th {\n",
       "        text-align: right;\n",
       "    }\n",
       "</style>\n",
       "<table border=\"1\" class=\"dataframe\">\n",
       "  <thead>\n",
       "    <tr style=\"text-align: right;\">\n",
       "      <th></th>\n",
       "      <th>Country</th>\n",
       "      <th>Total Deaths</th>\n",
       "    </tr>\n",
       "  </thead>\n",
       "  <tbody>\n",
       "    <tr>\n",
       "      <th>194</th>\n",
       "      <td>Vanuatu</td>\n",
       "      <td>14.0</td>\n",
       "    </tr>\n",
       "    <tr>\n",
       "      <th>185</th>\n",
       "      <td>Tonga</td>\n",
       "      <td>13.0</td>\n",
       "    </tr>\n",
       "    <tr>\n",
       "      <th>217</th>\n",
       "      <td>Anguilla</td>\n",
       "      <td>12.0</td>\n",
       "    </tr>\n",
       "    <tr>\n",
       "      <th>213</th>\n",
       "      <td>Palau</td>\n",
       "      <td>9.0</td>\n",
       "    </tr>\n",
       "    <tr>\n",
       "      <th>224</th>\n",
       "      <td>Montserrat</td>\n",
       "      <td>8.0</td>\n",
       "    </tr>\n",
       "    <tr>\n",
       "      <th>220</th>\n",
       "      <td>Wallis and Futuna</td>\n",
       "      <td>7.0</td>\n",
       "    </tr>\n",
       "    <tr>\n",
       "      <th>209</th>\n",
       "      <td>Cook Islands</td>\n",
       "      <td>2.0</td>\n",
       "    </tr>\n",
       "    <tr>\n",
       "      <th>219</th>\n",
       "      <td>Saint Pierre Miquelon</td>\n",
       "      <td>2.0</td>\n",
       "    </tr>\n",
       "    <tr>\n",
       "      <th>216</th>\n",
       "      <td>Nauru</td>\n",
       "      <td>1.0</td>\n",
       "    </tr>\n",
       "    <tr>\n",
       "      <th>223</th>\n",
       "      <td>Falkland Islands</td>\n",
       "      <td>0.0</td>\n",
       "    </tr>\n",
       "  </tbody>\n",
       "</table>\n",
       "</div>"
      ],
      "text/plain": [
       "                   Country  Total Deaths\n",
       "194                Vanuatu          14.0\n",
       "185                  Tonga          13.0\n",
       "217               Anguilla          12.0\n",
       "213                  Palau           9.0\n",
       "224             Montserrat           8.0\n",
       "220      Wallis and Futuna           7.0\n",
       "209           Cook Islands           2.0\n",
       "219  Saint Pierre Miquelon           2.0\n",
       "216                  Nauru           1.0\n",
       "223       Falkland Islands           0.0"
      ]
     },
     "execution_count": 133,
     "metadata": {},
     "output_type": "execute_result"
    }
   ],
   "source": [
    "less_cases =covid[['Country','Total Deaths']].sort_values(by=\"Total Deaths\",ascending=False)[187:]\n",
    "less_cases"
   ]
  },
  {
   "cell_type": "code",
   "execution_count": 134,
   "id": "f6ff81da",
   "metadata": {},
   "outputs": [
    {
     "data": {
      "text/html": [
       "<div>\n",
       "<style scoped>\n",
       "    .dataframe tbody tr th:only-of-type {\n",
       "        vertical-align: middle;\n",
       "    }\n",
       "\n",
       "    .dataframe tbody tr th {\n",
       "        vertical-align: top;\n",
       "    }\n",
       "\n",
       "    .dataframe thead th {\n",
       "        text-align: right;\n",
       "    }\n",
       "</style>\n",
       "<table border=\"1\" class=\"dataframe\">\n",
       "  <thead>\n",
       "    <tr style=\"text-align: right;\">\n",
       "      <th></th>\n",
       "      <th>Country</th>\n",
       "      <th>recovered by cases</th>\n",
       "    </tr>\n",
       "  </thead>\n",
       "  <tbody>\n",
       "    <tr>\n",
       "      <th>5</th>\n",
       "      <td>Japan</td>\n",
       "      <td>11021017.0</td>\n",
       "    </tr>\n",
       "    <tr>\n",
       "      <th>0</th>\n",
       "      <td>USA</td>\n",
       "      <td>2874082.0</td>\n",
       "    </tr>\n",
       "    <tr>\n",
       "      <th>20</th>\n",
       "      <td>Poland</td>\n",
       "      <td>1044285.0</td>\n",
       "    </tr>\n",
       "    <tr>\n",
       "      <th>12</th>\n",
       "      <td>Vietnam</td>\n",
       "      <td>914029.0</td>\n",
       "    </tr>\n",
       "    <tr>\n",
       "      <th>4</th>\n",
       "      <td>Brazil</td>\n",
       "      <td>905208.0</td>\n",
       "    </tr>\n",
       "    <tr>\n",
       "      <th>18</th>\n",
       "      <td>Mexico</td>\n",
       "      <td>761619.0</td>\n",
       "    </tr>\n",
       "    <tr>\n",
       "      <th>9</th>\n",
       "      <td>Russia</td>\n",
       "      <td>602688.0</td>\n",
       "    </tr>\n",
       "    <tr>\n",
       "      <th>1</th>\n",
       "      <td>India</td>\n",
       "      <td>532495.0</td>\n",
       "    </tr>\n",
       "    <tr>\n",
       "      <th>6</th>\n",
       "      <td>S. Korea</td>\n",
       "      <td>456189.0</td>\n",
       "    </tr>\n",
       "    <tr>\n",
       "      <th>15</th>\n",
       "      <td>Taiwan</td>\n",
       "      <td>439845.0</td>\n",
       "    </tr>\n",
       "  </tbody>\n",
       "</table>\n",
       "</div>"
      ],
      "text/plain": [
       "     Country  recovered by cases\n",
       "5      Japan          11021017.0\n",
       "0        USA           2874082.0\n",
       "20    Poland           1044285.0\n",
       "12   Vietnam            914029.0\n",
       "4     Brazil            905208.0\n",
       "18    Mexico            761619.0\n",
       "9     Russia            602688.0\n",
       "1      India            532495.0\n",
       "6   S. Korea            456189.0\n",
       "15    Taiwan            439845.0"
      ]
     },
     "execution_count": 134,
     "metadata": {},
     "output_type": "execute_result"
    }
   ],
   "source": [
    "covid['recovered by cases']=covid['Total Cases']-covid['Total Recovered']\n",
    "best_recovery=covid[['Country','recovered by cases']].sort_values(by='recovered by cases',ascending=False)\n",
    "best_recovery[:10]"
   ]
  },
  {
   "cell_type": "code",
   "execution_count": 136,
   "id": "4992891c",
   "metadata": {},
   "outputs": [
    {
     "data": {
      "image/png": "[encoded data removed]",
      "text/plain": [
       "<Figure size 640x480 with 1 Axes>"
      ]
     },
     "metadata": {},
     "output_type": "display_data"
    }
   ],
   "source": [
    "best_recovery[:10].plot(kind='barh', x='Country', y='recovered by cases',color='darkolivegreen',title='TOP 10 Best Recovery');"
   ]
  },
  {
   "cell_type": "code",
   "execution_count": 140,
   "id": "14cc2fd7",
   "metadata": {},
   "outputs": [
    {
     "data": {
      "text/html": [
       "<div>\n",
       "<style scoped>\n",
       "    .dataframe tbody tr th:only-of-type {\n",
       "        vertical-align: middle;\n",
       "    }\n",
       "\n",
       "    .dataframe tbody tr th {\n",
       "        vertical-align: top;\n",
       "    }\n",
       "\n",
       "    .dataframe thead th {\n",
       "        text-align: right;\n",
       "    }\n",
       "</style>\n",
       "<table border=\"1\" class=\"dataframe\">\n",
       "  <thead>\n",
       "    <tr style=\"text-align: right;\">\n",
       "      <th></th>\n",
       "      <th>Country</th>\n",
       "      <th>percentage of patients death</th>\n",
       "    </tr>\n",
       "  </thead>\n",
       "  <tbody>\n",
       "    <tr>\n",
       "      <th>196</th>\n",
       "      <td>Yemen</td>\n",
       "      <td>0.180745</td>\n",
       "    </tr>\n",
       "    <tr>\n",
       "      <th>144</th>\n",
       "      <td>Sudan</td>\n",
       "      <td>0.078457</td>\n",
       "    </tr>\n",
       "    <tr>\n",
       "      <th>148</th>\n",
       "      <td>Syria</td>\n",
       "      <td>0.055071</td>\n",
       "    </tr>\n",
       "    <tr>\n",
       "      <th>170</th>\n",
       "      <td>Somalia</td>\n",
       "      <td>0.049821</td>\n",
       "    </tr>\n",
       "    <tr>\n",
       "      <th>34</th>\n",
       "      <td>Peru</td>\n",
       "      <td>0.048851</td>\n",
       "    </tr>\n",
       "    <tr>\n",
       "      <th>88</th>\n",
       "      <td>Egypt</td>\n",
       "      <td>0.047732</td>\n",
       "    </tr>\n",
       "    <tr>\n",
       "      <th>18</th>\n",
       "      <td>Mexico</td>\n",
       "      <td>0.045085</td>\n",
       "    </tr>\n",
       "    <tr>\n",
       "      <th>96</th>\n",
       "      <td>Bosnia and Herzegovina</td>\n",
       "      <td>0.040497</td>\n",
       "    </tr>\n",
       "    <tr>\n",
       "      <th>114</th>\n",
       "      <td>Afghanistan</td>\n",
       "      <td>0.037795</td>\n",
       "    </tr>\n",
       "    <tr>\n",
       "      <th>205</th>\n",
       "      <td>Liberia</td>\n",
       "      <td>0.036467</td>\n",
       "    </tr>\n",
       "  </tbody>\n",
       "</table>\n",
       "</div>"
      ],
      "text/plain": [
       "                    Country  percentage of patients death\n",
       "196                   Yemen                      0.180745\n",
       "144                   Sudan                      0.078457\n",
       "148                   Syria                      0.055071\n",
       "170                 Somalia                      0.049821\n",
       "34                     Peru                      0.048851\n",
       "88                    Egypt                      0.047732\n",
       "18                   Mexico                      0.045085\n",
       "96   Bosnia and Herzegovina                      0.040497\n",
       "114             Afghanistan                      0.037795\n",
       "205                 Liberia                      0.036467"
      ]
     },
     "execution_count": 140,
     "metadata": {},
     "output_type": "execute_result"
    }
   ],
   "source": [
    "percentage_of_death=covid[['Country','percentage of patients death']].sort_values(by='percentage of patients death',ascending=False)\n",
    "percentage_of_death[:10]"
   ]
  },
  {
   "cell_type": "code",
   "execution_count": 142,
   "id": "527d8dd2",
   "metadata": {},
   "outputs": [
    {
     "data": {
      "image/png": "[encoded data removed]",
      "text/plain": [
       "<Figure size 640x480 with 1 Axes>"
      ]
     },
     "metadata": {},
     "output_type": "display_data"
    }
   ],
   "source": [
    "percentage_of_death[:10].plot(kind='barh', x='Country', y='percentage of patients death',color='yellowgreen',title='TOP 10 countries with highest Death by patient in %')\n",
    "plt.show()"
   ]
  },
  {
   "cell_type": "code",
   "execution_count": null,
   "id": "eca551e2",
   "metadata": {},
   "outputs": [],
   "source": [
    "plt.figure(figsize=(14, 15))\n",
    "plt.subplot(2, 2, 1)\n",
    "sns.barplot(top_cases,x='Country',y='Total Deaths', color='red')\n",
    "plt.title('Top 10 Countries with most Deaths')\n",
    "plt.xticks(rotation=75)\n",
    "plt.subplot(2,2,2)\n",
    "sns.barplot(less_cases,x='Country',y='Total Deaths', color='teal')\n",
    "plt.title('Top 10 Countries with less Deaths')\n",
    "plt.xticks(rotation=75)\n",
    "plt.show()\n"
   ]
  },
  {
   "cell_type": "code",
   "execution_count": 143,
   "id": "1f7e2c06",
   "metadata": {},
   "outputs": [
    {
     "data": {
      "application/vnd.plotly.v1+json": {
       "config": {
        "plotlyServerURL": "https://plot.ly"
       },
       "data": [
        {
         "geo": "geo",
         "hovertemplate": "Total Deaths=%{marker.color}<br>Country=%{location}<extra></extra>",
         "legendgroup": "",
         "locationmode": "country names",
         "locations": [
          "USA",
          "India",
          "France",
          "Germany",
          "Brazil",
          "Japan",
          "S. Korea",
          "Italy",
          "UK",
          "Russia",
          "Spain",
          "Vietnam",
          "Australia",
          "Argentina",
          "Taiwan",
          "Netherlands",
          "Iran",
          "Mexico",
          "Indonesia",
          "Poland",
          "Colombia",
          "Austria",
          "Greece",
          "Portugal",
          "Ukraine",
          "Chile",
          "Malaysia",
          "Israel",
          "Thailand",
          "Belgium",
          "Czechia",
          "Canada",
          "Peru",
          "Switzerland",
          "Philippines",
          "South Africa",
          "Romania",
          "Denmark",
          "Hong Kong",
          "Sweden",
          "Serbia",
          "Iraq",
          "Singapore",
          "Hungary",
          "New Zealand",
          "Bangladesh",
          "Slovakia",
          "Georgia",
          "Jordan",
          "Ireland",
          "Pakistan",
          "Norway",
          "Finland",
          "Kazakhstan",
          "Slovenia",
          "Lithuania",
          "Bulgaria",
          "Morocco",
          "Croatia",
          "Lebanon",
          "Guatemala",
          "Bolivia",
          "Costa Rica",
          "Cuba",
          "Ecuador",
          "UAE",
          "Uruguay",
          "Panama",
          "Mongolia",
          "Nepal",
          "Belarus",
          "Latvia",
          "Saudi Arabia",
          "Azerbaijan",
          "Bahrain",
          "Sri Lanka",
          "Kuwait",
          "Dominican Republic",
          "Cyprus",
          "Myanmar",
          "Palestine",
          "Estonia",
          "Moldova",
          "Venezuela",
          "Egypt",
          "Libya",
          "China",
          "Ethiopia",
          "Qatar",
          "Réunion",
          "Armenia",
          "Bosnia and Herzegovina",
          "Oman",
          "North Macedonia",
          "Kenya",
          "Zambia",
          "Albania",
          "Botswana",
          "Luxembourg",
          "Montenegro",
          "Brunei",
          "Algeria",
          "Nigeria",
          "Zimbabwe",
          "Uzbekistan",
          "Mozambique",
          "Afghanistan",
          "Kyrgyzstan",
          "El Salvador",
          "Trinidad and Tobago",
          "Maldives",
          "Ghana",
          "Namibia",
          "Uganda",
          "Jamaica",
          "Cambodia",
          "Rwanda",
          "Cameroon",
          "Malta",
          "Barbados",
          "Angola",
          "Channel Islands",
          "French Guiana",
          "DRC",
          "Senegal",
          "Malawi",
          "Ivory Coast",
          "New Caledonia",
          "Eswatini",
          "Guyana",
          "Belize",
          "Fiji",
          "Madagascar",
          "Sudan",
          "Mauritania",
          "Cabo Verde",
          "Bhutan",
          "Syria",
          "Burundi",
          "Gabon",
          "Andorra",
          "Papua New Guinea",
          "Curaçao",
          "Aruba",
          "Mauritius",
          "Togo",
          "Guinea",
          "Bahamas",
          "Lesotho",
          "Haiti",
          "Mali",
          "Cayman Islands",
          "Saint Lucia",
          "Benin",
          "Somalia",
          "Congo",
          "San Marino",
          "Timor-Leste",
          "Burkina Faso",
          "Liechtenstein",
          "Gibraltar",
          "Grenada",
          "Bermuda",
          "South Sudan",
          "Equatorial Guinea",
          "Tonga",
          "Samoa",
          "Monaco",
          "Dominica",
          "Djibouti",
          "CAR",
          "Gambia",
          "Saint Martin",
          "Vanuatu",
          "Greenland",
          "Yemen",
          "Caribbean Netherlands",
          "Sint Maarten",
          "Eritrea",
          "Niger",
          "St. Vincent Grenadines",
          "Antigua and Barbuda",
          "Guinea-Bissau",
          "Liberia",
          "Chad",
          "Cook Islands",
          "Saint Kitts and Nevis",
          "Turks and Caicos",
          "Sao Tome and Principe",
          "Palau",
          "Nauru",
          "Anguilla",
          "Macao",
          "Saint Pierre Miquelon",
          "Wallis and Futuna",
          "Falkland Islands",
          "Montserrat"
         ],
         "marker": {
          "color": [
           1132935,
           530740,
           164233,
           165711,
           697074,
           68399,
           33486,
           186833,
           204171,
           395108,
           118434,
           43186,
           18615,
           130421,
           16356,
           22989,
           144749,
           332198,
           160817,
           118736,
           142486,
           21689,
           35630,
           26022,
           111020,
           63812,
           36942,
           12193,
           33865,
           33557,
           42312,
           50380,
           218931,
           14452,
           65802,
           102595,
           67576,
           8145,
           13358,
           23246,
           17701,
           25375,
           1722,
           48677,
           3781,
           29442,
           20946,
           16926,
           14122,
           8462,
           30640,
           5112,
           8639,
           13695,
           7056,
           9545,
           38179,
           16296,
           17877,
           10790,
           20106,
           22346,
           9158,
           8530,
           35942,
           2348,
           7609,
           8596,
           2179,
           12020,
           7118,
           6218,
           9574,
           10085,
           1543,
           16828,
           2570,
           4384,
           1287,
           19490,
           5404,
           2912,
           11953,
           5845,
           24613,
           6437,
           5272,
           7572,
           686,
           919,
           8717,
           16255,
           4628,
           9638,
           5688,
           4047,
           3595,
           2800,
           1133,
           2797,
           225,
           6881,
           3155,
           5652,
           1637,
           2233,
           7882,
           2991,
           4230,
           4326,
           311,
           1462,
           4088,
           3630,
           3480,
           3056,
           1468,
           1965,
           824,
           571,
           1931,
           223,
           420,
           1463,
           1971,
           2686,
           833,
           314,
           1422,
           1294,
           688,
           883,
           1419,
           5001,
           997,
           413,
           21,
           3164,
           38,
           306,
           165,
           670,
           295,
           236,
           1043,
           290,
           467,
           833,
           723,
           860,
           743,
           37,
           409,
           163,
           1361,
           386,
           122,
           138,
           396,
           89,
           111,
           238,
           157,
           138,
           183,
           13,
           29,
           65,
           74,
           189,
           113,
           372,
           63,
           14,
           21,
           2159,
           38,
           89,
           103,
           312,
           123,
           146,
           176,
           294,
           194,
           2,
           46,
           38,
           77,
           9,
           1,
           12,
           120,
           2,
           7,
           0,
           8
          ],
          "coloraxis": "coloraxis",
          "size": [
           1132935,
           530740,
           164233,
           165711,
           697074,
           68399,
           33486,
           186833,
           204171,
           395108,
           118434,
           43186,
           18615,
           130421,
           16356,
           22989,
           144749,
           332198,
           160817,
           118736,
           142486,
           21689,
           35630,
           26022,
           111020,
           63812,
           36942,
           12193,
           33865,
           33557,
           42312,
           50380,
           218931,
           14452,
           65802,
           102595,
           67576,
           8145,
           13358,
           23246,
           17701,
           25375,
           1722,
           48677,
           3781,
           29442,
           20946,
           16926,
           14122,
           8462,
           30640,
           5112,
           8639,
           13695,
           7056,
           9545,
           38179,
           16296,
           17877,
           10790,
           20106,
           22346,
           9158,
           8530,
           35942,
           2348,
           7609,
           8596,
           2179,
           12020,
           7118,
           6218,
           9574,
           10085,
           1543,
           16828,
           2570,
           4384,
           1287,
           19490,
           5404,
           2912,
           11953,
           5845,
           24613,
           6437,
           5272,
           7572,
           686,
           919,
           8717,
           16255,
           4628,
           9638,
           5688,
           4047,
           3595,
           2800,
           1133,
           2797,
           225,
           6881,
           3155,
           5652,
           1637,
           2233,
           7882,
           2991,
           4230,
           4326,
           311,
           1462,
           4088,
           3630,
           3480,
           3056,
           1468,
           1965,
           824,
           571,
           1931,
           223,
           420,
           1463,
           1971,
           2686,
           833,
           314,
           1422,
           1294,
           688,
           883,
           1419,
           5001,
           997,
           413,
           21,
           3164,
           38,
           306,
           165,
           670,
           295,
           236,
           1043,
           290,
           467,
           833,
           723,
           860,
           743,
           37,
           409,
           163,
           1361,
           386,
           122,
           138,
           396,
           89,
           111,
           238,
           157,
           138,
           183,
           13,
           29,
           65,
           74,
           189,
           113,
           372,
           63,
           14,
           21,
           2159,
           38,
           89,
           103,
           312,
           123,
           146,
           176,
           294,
           194,
           2,
           46,
           38,
           77,
           9,
           1,
           12,
           120,
           2,
           7,
           0,
           8
          ],
          "sizemode": "area",
          "sizeref": 559.4740740740741,
          "symbol": "circle"
         },
         "mode": "markers",
         "name": "",
         "showlegend": false,
         "type": "scattergeo"
        }
       ],
       "layout": {
        "coloraxis": {
         "colorbar": {
          "title": {
           "text": "Total Deaths"
          }
         },
         "colorscale": [
          [
           0,
           "rgb(0,0,0)"
          ],
          [
           0.3333333333333333,
           "rgb(230,0,0)"
          ],
          [
           0.6666666666666666,
           "rgb(255,210,0)"
          ],
          [
           1,
           "rgb(255,255,255)"
          ]
         ]
        },
        "geo": {
         "center": {},
         "domain": {
          "x": [
           0,
           1
          ],
          "y": [
           0,
           1
          ]
         },
         "scope": "world"
        },
        "legend": {
         "itemsizing": "constant",
         "tracegroupgap": 0
        },
        "template": {
         "data": {
          "bar": [
           {
            "error_x": {
             "color": "#2a3f5f"
            },
            "error_y": {
             "color": "#2a3f5f"
            },
            "marker": {
             "line": {
              "color": "#E5ECF6",
              "width": 0.5
             },
             "pattern": {
              "fillmode": "overlay",
              "size": 10,
              "solidity": 0.2
             }
            },
            "type": "bar"
           }
          ],
          "barpolar": [
           {
            "marker": {
             "line": {
              "color": "#E5ECF6",
              "width": 0.5
             },
             "pattern": {
              "fillmode": "overlay",
              "size": 10,
              "solidity": 0.2
             }
            },
            "type": "barpolar"
           }
          ],
          "carpet": [
           {
            "aaxis": {
             "endlinecolor": "#2a3f5f",
             "gridcolor": "white",
             "linecolor": "white",
             "minorgridcolor": "white",
             "startlinecolor": "#2a3f5f"
            },
            "baxis": {
             "endlinecolor": "#2a3f5f",
             "gridcolor": "white",
             "linecolor": "white",
             "minorgridcolor": "white",
             "startlinecolor": "#2a3f5f"
            },
            "type": "carpet"
           }
          ],
          "choropleth": [
           {
            "colorbar": {
             "outlinewidth": 0,
             "ticks": ""
            },
            "type": "choropleth"
           }
          ],
          "contour": [
           {
            "colorbar": {
             "outlinewidth": 0,
             "ticks": ""
            },
            "colorscale": [
             [
              0,
              "#0d0887"
             ],
             [
              0.1111111111111111,
              "#46039f"
             ],
             [
              0.2222222222222222,
              "#7201a8"
             ],
             [
              0.3333333333333333,
              "#9c179e"
             ],
             [
              0.4444444444444444,
              "#bd3786"
             ],
             [
              0.5555555555555556,
              "#d8576b"
             ],
             [
              0.6666666666666666,
              "#ed7953"
             ],
             [
              0.7777777777777778,
              "#fb9f3a"
             ],
             [
              0.8888888888888888,
              "#fdca26"
             ],
             [
              1,
              "#f0f921"
             ]
            ],
            "type": "contour"
           }
          ],
          "contourcarpet": [
           {
            "colorbar": {
             "outlinewidth": 0,
             "ticks": ""
            },
            "type": "contourcarpet"
           }
          ],
          "heatmap": [
           {
            "colorbar": {
             "outlinewidth": 0,
             "ticks": ""
            },
            "colorscale": [
             [
              0,
              "#0d0887"
             ],
             [
              0.1111111111111111,
              "#46039f"
             ],
             [
              0.2222222222222222,
              "#7201a8"
             ],
             [
              0.3333333333333333,
              "#9c179e"
             ],
             [
              0.4444444444444444,
              "#bd3786"
             ],
             [
              0.5555555555555556,
              "#d8576b"
             ],
             [
              0.6666666666666666,
              "#ed7953"
             ],
             [
              0.7777777777777778,
              "#fb9f3a"
             ],
             [
              0.8888888888888888,
              "#fdca26"
             ],
             [
              1,
              "#f0f921"
             ]
            ],
            "type": "heatmap"
           }
          ],
          "heatmapgl": [
           {
            "colorbar": {
             "outlinewidth": 0,
             "ticks": ""
            },
            "colorscale": [
             [
              0,
              "#0d0887"
             ],
             [
              0.1111111111111111,
              "#46039f"
             ],
             [
              0.2222222222222222,
              "#7201a8"
             ],
             [
              0.3333333333333333,
              "#9c179e"
             ],
             [
              0.4444444444444444,
              "#bd3786"
             ],
             [
              0.5555555555555556,
              "#d8576b"
             ],
             [
              0.6666666666666666,
              "#ed7953"
             ],
             [
              0.7777777777777778,
              "#fb9f3a"
             ],
             [
              0.8888888888888888,
              "#fdca26"
             ],
             [
              1,
              "#f0f921"
             ]
            ],
            "type": "heatmapgl"
           }
          ],
          "histogram": [
           {
            "marker": {
             "pattern": {
              "fillmode": "overlay",
              "size": 10,
              "solidity": 0.2
             }
            },
            "type": "histogram"
           }
          ],
          "histogram2d": [
           {
            "colorbar": {
             "outlinewidth": 0,
             "ticks": ""
            },
            "colorscale": [
             [
              0,
              "#0d0887"
             ],
             [
              0.1111111111111111,
              "#46039f"
             ],
             [
              0.2222222222222222,
              "#7201a8"
             ],
             [
              0.3333333333333333,
              "#9c179e"
             ],
             [
              0.4444444444444444,
              "#bd3786"
             ],
             [
              0.5555555555555556,
              "#d8576b"
             ],
             [
              0.6666666666666666,
              "#ed7953"
             ],
             [
              0.7777777777777778,
              "#fb9f3a"
             ],
             [
              0.8888888888888888,
              "#fdca26"
             ],
             [
              1,
              "#f0f921"
             ]
            ],
            "type": "histogram2d"
           }
          ],
          "histogram2dcontour": [
           {
            "colorbar": {
             "outlinewidth": 0,
             "ticks": ""
            },
            "colorscale": [
             [
              0,
              "#0d0887"
             ],
             [
              0.1111111111111111,
              "#46039f"
             ],
             [
              0.2222222222222222,
              "#7201a8"
             ],
             [
              0.3333333333333333,
              "#9c179e"
             ],
             [
              0.4444444444444444,
              "#bd3786"
             ],
             [
              0.5555555555555556,
              "#d8576b"
             ],
             [
              0.6666666666666666,
              "#ed7953"
             ],
             [
              0.7777777777777778,
              "#fb9f3a"
             ],
             [
              0.8888888888888888,
              "#fdca26"
             ],
             [
              1,
              "#f0f921"
             ]
            ],
            "type": "histogram2dcontour"
           }
          ],
          "mesh3d": [
           {
            "colorbar": {
             "outlinewidth": 0,
             "ticks": ""
            },
            "type": "mesh3d"
           }
          ],
          "parcoords": [
           {
            "line": {
             "colorbar": {
              "outlinewidth": 0,
              "ticks": ""
             }
            },
            "type": "parcoords"
           }
          ],
          "pie": [
           {
            "automargin": true,
            "type": "pie"
           }
          ],
          "scatter": [
           {
            "fillpattern": {
             "fillmode": "overlay",
             "size": 10,
             "solidity": 0.2
            },
            "type": "scatter"
           }
          ],
          "scatter3d": [
           {
            "line": {
             "colorbar": {
              "outlinewidth": 0,
              "ticks": ""
             }
            },
            "marker": {
             "colorbar": {
              "outlinewidth": 0,
              "ticks": ""
             }
            },
            "type": "scatter3d"
           }
          ],
          "scattercarpet": [
           {
            "marker": {
             "colorbar": {
              "outlinewidth": 0,
              "ticks": ""
             }
            },
            "type": "scattercarpet"
           }
          ],
          "scattergeo": [
           {
            "marker": {
             "colorbar": {
              "outlinewidth": 0,
              "ticks": ""
             }
            },
            "type": "scattergeo"
           }
          ],
          "scattergl": [
           {
            "marker": {
             "colorbar": {
              "outlinewidth": 0,
              "ticks": ""
             }
            },
            "type": "scattergl"
           }
          ],
          "scattermapbox": [
           {
            "marker": {
             "colorbar": {
              "outlinewidth": 0,
              "ticks": ""
             }
            },
            "type": "scattermapbox"
           }
          ],
          "scatterpolar": [
           {
            "marker": {
             "colorbar": {
              "outlinewidth": 0,
              "ticks": ""
             }
            },
            "type": "scatterpolar"
           }
          ],
          "scatterpolargl": [
           {
            "marker": {
             "colorbar": {
              "outlinewidth": 0,
              "ticks": ""
             }
            },
            "type": "scatterpolargl"
           }
          ],
          "scatterternary": [
           {
            "marker": {
             "colorbar": {
              "outlinewidth": 0,
              "ticks": ""
             }
            },
            "type": "scatterternary"
           }
          ],
          "surface": [
           {
            "colorbar": {
             "outlinewidth": 0,
             "ticks": ""
            },
            "colorscale": [
             [
              0,
              "#0d0887"
             ],
             [
              0.1111111111111111,
              "#46039f"
             ],
             [
              0.2222222222222222,
              "#7201a8"
             ],
             [
              0.3333333333333333,
              "#9c179e"
             ],
             [
              0.4444444444444444,
              "#bd3786"
             ],
             [
              0.5555555555555556,
              "#d8576b"
             ],
             [
              0.6666666666666666,
              "#ed7953"
             ],
             [
              0.7777777777777778,
              "#fb9f3a"
             ],
             [
              0.8888888888888888,
              "#fdca26"
             ],
             [
              1,
              "#f0f921"
             ]
            ],
            "type": "surface"
           }
          ],
          "table": [
           {
            "cells": {
             "fill": {
              "color": "#EBF0F8"
             },
             "line": {
              "color": "white"
             }
            },
            "header": {
             "fill": {
              "color": "#C8D4E3"
             },
             "line": {
              "color": "white"
             }
            },
            "type": "table"
           }
          ]
         },
         "layout": {
          "annotationdefaults": {
           "arrowcolor": "#2a3f5f",
           "arrowhead": 0,
           "arrowwidth": 1
          },
          "autotypenumbers": "strict",
          "coloraxis": {
           "colorbar": {
            "outlinewidth": 0,
            "ticks": ""
           }
          },
          "colorscale": {
           "diverging": [
            [
             0,
             "#8e0152"
            ],
            [
             0.1,
             "#c51b7d"
            ],
            [
             0.2,
             "#de77ae"
            ],
            [
             0.3,
             "#f1b6da"
            ],
            [
             0.4,
             "#fde0ef"
            ],
            [
             0.5,
             "#f7f7f7"
            ],
            [
             0.6,
             "#e6f5d0"
            ],
            [
             0.7,
             "#b8e186"
            ],
            [
             0.8,
             "#7fbc41"
            ],
            [
             0.9,
             "#4d9221"
            ],
            [
             1,
             "#276419"
            ]
           ],
           "sequential": [
            [
             0,
             "#0d0887"
            ],
            [
             0.1111111111111111,
             "#46039f"
            ],
            [
             0.2222222222222222,
             "#7201a8"
            ],
            [
             0.3333333333333333,
             "#9c179e"
            ],
            [
             0.4444444444444444,
             "#bd3786"
            ],
            [
             0.5555555555555556,
             "#d8576b"
            ],
            [
             0.6666666666666666,
             "#ed7953"
            ],
            [
             0.7777777777777778,
             "#fb9f3a"
            ],
            [
             0.8888888888888888,
             "#fdca26"
            ],
            [
             1,
             "#f0f921"
            ]
           ],
           "sequentialminus": [
            [
             0,
             "#0d0887"
            ],
            [
             0.1111111111111111,
             "#46039f"
            ],
            [
             0.2222222222222222,
             "#7201a8"
            ],
            [
             0.3333333333333333,
             "#9c179e"
            ],
            [
             0.4444444444444444,
             "#bd3786"
            ],
            [
             0.5555555555555556,
             "#d8576b"
            ],
            [
             0.6666666666666666,
             "#ed7953"
            ],
            [
             0.7777777777777778,
             "#fb9f3a"
            ],
            [
             0.8888888888888888,
             "#fdca26"
            ],
            [
             1,
             "#f0f921"
            ]
           ]
          },
          "colorway": [
           "#636efa",
           "#EF553B",
           "#00cc96",
           "#ab63fa",
           "#FFA15A",
           "#19d3f3",
           "#FF6692",
           "#B6E880",
           "#FF97FF",
           "#FECB52"
          ],
          "font": {
           "color": "#2a3f5f"
          },
          "geo": {
           "bgcolor": "white",
           "lakecolor": "white",
           "landcolor": "#E5ECF6",
           "showlakes": true,
           "showland": true,
           "subunitcolor": "white"
          },
          "hoverlabel": {
           "align": "left"
          },
          "hovermode": "closest",
          "mapbox": {
           "style": "light"
          },
          "paper_bgcolor": "white",
          "plot_bgcolor": "#E5ECF6",
          "polar": {
           "angularaxis": {
            "gridcolor": "white",
            "linecolor": "white",
            "ticks": ""
           },
           "bgcolor": "#E5ECF6",
           "radialaxis": {
            "gridcolor": "white",
            "linecolor": "white",
            "ticks": ""
           }
          },
          "scene": {
           "xaxis": {
            "backgroundcolor": "#E5ECF6",
            "gridcolor": "white",
            "gridwidth": 2,
            "linecolor": "white",
            "showbackground": true,
            "ticks": "",
            "zerolinecolor": "white"
           },
           "yaxis": {
            "backgroundcolor": "#E5ECF6",
            "gridcolor": "white",
            "gridwidth": 2,
            "linecolor": "white",
            "showbackground": true,
            "ticks": "",
            "zerolinecolor": "white"
           },
           "zaxis": {
            "backgroundcolor": "#E5ECF6",
            "gridcolor": "white",
            "gridwidth": 2,
            "linecolor": "white",
            "showbackground": true,
            "ticks": "",
            "zerolinecolor": "white"
           }
          },
          "shapedefaults": {
           "line": {
            "color": "#2a3f5f"
           }
          },
          "ternary": {
           "aaxis": {
            "gridcolor": "white",
            "linecolor": "white",
            "ticks": ""
           },
           "baxis": {
            "gridcolor": "white",
            "linecolor": "white",
            "ticks": ""
           },
           "bgcolor": "#E5ECF6",
           "caxis": {
            "gridcolor": "white",
            "linecolor": "white",
            "ticks": ""
           }
          },
          "title": {
           "x": 0.05
          },
          "xaxis": {
           "automargin": true,
           "gridcolor": "white",
           "linecolor": "white",
           "ticks": "",
           "title": {
            "standoff": 15
           },
           "zerolinecolor": "white",
           "zerolinewidth": 2
          },
          "yaxis": {
           "automargin": true,
           "gridcolor": "white",
           "linecolor": "white",
           "ticks": "",
           "title": {
            "standoff": 15
           },
           "zerolinecolor": "white",
           "zerolinewidth": 2
          }
         }
        },
        "title": {
         "text": "Covid-19 Cases of death around the Globe"
        }
       }
      },
      "text/html": [
       "<div>                            <div id=\"c56fddf0-19a0-41a1-8da6-d7e11f930145\" class=\"plotly-graph-div\" style=\"height:525px; width:100%;\"></div>            <script type=\"text/javascript\">                require([\"plotly\"], function(Plotly) {                    window.PLOTLYENV=window.PLOTLYENV || {};                                    if (document.getElementById(\"c56fddf0-19a0-41a1-8da6-d7e11f930145\")) {                    Plotly.newPlot(                        \"c56fddf0-19a0-41a1-8da6-d7e11f930145\",                        [{\"geo\":\"geo\",\"hovertemplate\":\"Total Deaths=%{marker.color}<br>Country=%{location}<extra></extra>\",\"legendgroup\":\"\",\"locationmode\":\"country names\",\"locations\":[\"USA\",\"India\",\"France\",\"Germany\",\"Brazil\",\"Japan\",\"S. Korea\",\"Italy\",\"UK\",\"Russia\",\"Spain\",\"Vietnam\",\"Australia\",\"Argentina\",\"Taiwan\",\"Netherlands\",\"Iran\",\"Mexico\",\"Indonesia\",\"Poland\",\"Colombia\",\"Austria\",\"Greece\",\"Portugal\",\"Ukraine\",\"Chile\",\"Malaysia\",\"Israel\",\"Thailand\",\"Belgium\",\"Czechia\",\"Canada\",\"Peru\",\"Switzerland\",\"Philippines\",\"South Africa\",\"Romania\",\"Denmark\",\"Hong Kong\",\"Sweden\",\"Serbia\",\"Iraq\",\"Singapore\",\"Hungary\",\"New Zealand\",\"Bangladesh\",\"Slovakia\",\"Georgia\",\"Jordan\",\"Ireland\",\"Pakistan\",\"Norway\",\"Finland\",\"Kazakhstan\",\"Slovenia\",\"Lithuania\",\"Bulgaria\",\"Morocco\",\"Croatia\",\"Lebanon\",\"Guatemala\",\"Bolivia\",\"Costa Rica\",\"Cuba\",\"Ecuador\",\"UAE\",\"Uruguay\",\"Panama\",\"Mongolia\",\"Nepal\",\"Belarus\",\"Latvia\",\"Saudi Arabia\",\"Azerbaijan\",\"Bahrain\",\"Sri Lanka\",\"Kuwait\",\"Dominican Republic\",\"Cyprus\",\"Myanmar\",\"Palestine\",\"Estonia\",\"Moldova\",\"Venezuela\",\"Egypt\",\"Libya\",\"China\",\"Ethiopia\",\"Qatar\",\"R\\u00e9union\",\"Armenia\",\"Bosnia and Herzegovina\",\"Oman\",\"North Macedonia\",\"Kenya\",\"Zambia\",\"Albania\",\"Botswana\",\"Luxembourg\",\"Montenegro\",\"Brunei\",\"Algeria\",\"Nigeria\",\"Zimbabwe\",\"Uzbekistan\",\"Mozambique\",\"Afghanistan\",\"Kyrgyzstan\",\"El Salvador\",\"Trinidad and Tobago\",\"Maldives\",\"Ghana\",\"Namibia\",\"Uganda\",\"Jamaica\",\"Cambodia\",\"Rwanda\",\"Cameroon\",\"Malta\",\"Barbados\",\"Angola\",\"Channel Islands\",\"French Guiana\",\"DRC\",\"Senegal\",\"Malawi\",\"Ivory Coast\",\"New Caledonia\",\"Eswatini\",\"Guyana\",\"Belize\",\"Fiji\",\"Madagascar\",\"Sudan\",\"Mauritania\",\"Cabo Verde\",\"Bhutan\",\"Syria\",\"Burundi\",\"Gabon\",\"Andorra\",\"Papua New Guinea\",\"Cura\\u00e7ao\",\"Aruba\",\"Mauritius\",\"Togo\",\"Guinea\",\"Bahamas\",\"Lesotho\",\"Haiti\",\"Mali\",\"Cayman Islands\",\"Saint Lucia\",\"Benin\",\"Somalia\",\"Congo\",\"San Marino\",\"Timor-Leste\",\"Burkina Faso\",\"Liechtenstein\",\"Gibraltar\",\"Grenada\",\"Bermuda\",\"South Sudan\",\"Equatorial Guinea\",\"Tonga\",\"Samoa\",\"Monaco\",\"Dominica\",\"Djibouti\",\"CAR\",\"Gambia\",\"Saint Martin\",\"Vanuatu\",\"Greenland\",\"Yemen\",\"Caribbean Netherlands\",\"Sint Maarten\",\"Eritrea\",\"Niger\",\"St. Vincent Grenadines\",\"Antigua and Barbuda\",\"Guinea-Bissau\",\"Liberia\",\"Chad\",\"Cook Islands\",\"Saint Kitts and Nevis\",\"Turks and Caicos\",\"Sao Tome and Principe\",\"Palau\",\"Nauru\",\"Anguilla\",\"Macao\",\"Saint Pierre Miquelon\",\"Wallis and Futuna\",\"Falkland Islands\",\"Montserrat\"],\"marker\":{\"color\":[1132935.0,530740.0,164233.0,165711.0,697074.0,68399.0,33486.0,186833.0,204171.0,395108.0,118434.0,43186.0,18615.0,130421.0,16356.0,22989.0,144749.0,332198.0,160817.0,118736.0,142486.0,21689.0,35630.0,26022.0,111020.0,63812.0,36942.0,12193.0,33865.0,33557.0,42312.0,50380.0,218931.0,14452.0,65802.0,102595.0,67576.0,8145.0,13358.0,23246.0,17701.0,25375.0,1722.0,48677.0,3781.0,29442.0,20946.0,16926.0,14122.0,8462.0,30640.0,5112.0,8639.0,13695.0,7056.0,9545.0,38179.0,16296.0,17877.0,10790.0,20106.0,22346.0,9158.0,8530.0,35942.0,2348.0,7609.0,8596.0,2179.0,12020.0,7118.0,6218.0,9574.0,10085.0,1543.0,16828.0,2570.0,4384.0,1287.0,19490.0,5404.0,2912.0,11953.0,5845.0,24613.0,6437.0,5272.0,7572.0,686.0,919.0,8717.0,16255.0,4628.0,9638.0,5688.0,4047.0,3595.0,2800.0,1133.0,2797.0,225.0,6881.0,3155.0,5652.0,1637.0,2233.0,7882.0,2991.0,4230.0,4326.0,311.0,1462.0,4088.0,3630.0,3480.0,3056.0,1468.0,1965.0,824.0,571.0,1931.0,223.0,420.0,1463.0,1971.0,2686.0,833.0,314.0,1422.0,1294.0,688.0,883.0,1419.0,5001.0,997.0,413.0,21.0,3164.0,38.0,306.0,165.0,670.0,295.0,236.0,1043.0,290.0,467.0,833.0,723.0,860.0,743.0,37.0,409.0,163.0,1361.0,386.0,122.0,138.0,396.0,89.0,111.0,238.0,157.0,138.0,183.0,13.0,29.0,65.0,74.0,189.0,113.0,372.0,63.0,14.0,21.0,2159.0,38.0,89.0,103.0,312.0,123.0,146.0,176.0,294.0,194.0,2.0,46.0,38.0,77.0,9.0,1.0,12.0,120.0,2.0,7.0,0.0,8.0],\"coloraxis\":\"coloraxis\",\"size\":[1132935.0,530740.0,164233.0,165711.0,697074.0,68399.0,33486.0,186833.0,204171.0,395108.0,118434.0,43186.0,18615.0,130421.0,16356.0,22989.0,144749.0,332198.0,160817.0,118736.0,142486.0,21689.0,35630.0,26022.0,111020.0,63812.0,36942.0,12193.0,33865.0,33557.0,42312.0,50380.0,218931.0,14452.0,65802.0,102595.0,67576.0,8145.0,13358.0,23246.0,17701.0,25375.0,1722.0,48677.0,3781.0,29442.0,20946.0,16926.0,14122.0,8462.0,30640.0,5112.0,8639.0,13695.0,7056.0,9545.0,38179.0,16296.0,17877.0,10790.0,20106.0,22346.0,9158.0,8530.0,35942.0,2348.0,7609.0,8596.0,2179.0,12020.0,7118.0,6218.0,9574.0,10085.0,1543.0,16828.0,2570.0,4384.0,1287.0,19490.0,5404.0,2912.0,11953.0,5845.0,24613.0,6437.0,5272.0,7572.0,686.0,919.0,8717.0,16255.0,4628.0,9638.0,5688.0,4047.0,3595.0,2800.0,1133.0,2797.0,225.0,6881.0,3155.0,5652.0,1637.0,2233.0,7882.0,2991.0,4230.0,4326.0,311.0,1462.0,4088.0,3630.0,3480.0,3056.0,1468.0,1965.0,824.0,571.0,1931.0,223.0,420.0,1463.0,1971.0,2686.0,833.0,314.0,1422.0,1294.0,688.0,883.0,1419.0,5001.0,997.0,413.0,21.0,3164.0,38.0,306.0,165.0,670.0,295.0,236.0,1043.0,290.0,467.0,833.0,723.0,860.0,743.0,37.0,409.0,163.0,1361.0,386.0,122.0,138.0,396.0,89.0,111.0,238.0,157.0,138.0,183.0,13.0,29.0,65.0,74.0,189.0,113.0,372.0,63.0,14.0,21.0,2159.0,38.0,89.0,103.0,312.0,123.0,146.0,176.0,294.0,194.0,2.0,46.0,38.0,77.0,9.0,1.0,12.0,120.0,2.0,7.0,0.0,8.0],\"sizemode\":\"area\",\"sizeref\":559.4740740740741,\"symbol\":\"circle\"},\"mode\":\"markers\",\"name\":\"\",\"showlegend\":false,\"type\":\"scattergeo\"}],                        {\"template\":{\"data\":{\"histogram2dcontour\":[{\"type\":\"histogram2dcontour\",\"colorbar\":{\"outlinewidth\":0,\"ticks\":\"\"},\"colorscale\":[[0.0,\"#0d0887\"],[0.1111111111111111,\"#46039f\"],[0.2222222222222222,\"#7201a8\"],[0.3333333333333333,\"#9c179e\"],[0.4444444444444444,\"#bd3786\"],[0.5555555555555556,\"#d8576b\"],[0.6666666666666666,\"#ed7953\"],[0.7777777777777778,\"#fb9f3a\"],[0.8888888888888888,\"#fdca26\"],[1.0,\"#f0f921\"]]}],\"choropleth\":[{\"type\":\"choropleth\",\"colorbar\":{\"outlinewidth\":0,\"ticks\":\"\"}}],\"histogram2d\":[{\"type\":\"histogram2d\",\"colorbar\":{\"outlinewidth\":0,\"ticks\":\"\"},\"colorscale\":[[0.0,\"#0d0887\"],[0.1111111111111111,\"#46039f\"],[0.2222222222222222,\"#7201a8\"],[0.3333333333333333,\"#9c179e\"],[0.4444444444444444,\"#bd3786\"],[0.5555555555555556,\"#d8576b\"],[0.6666666666666666,\"#ed7953\"],[0.7777777777777778,\"#fb9f3a\"],[0.8888888888888888,\"#fdca26\"],[1.0,\"#f0f921\"]]}],\"heatmap\":[{\"type\":\"heatmap\",\"colorbar\":{\"outlinewidth\":0,\"ticks\":\"\"},\"colorscale\":[[0.0,\"#0d0887\"],[0.1111111111111111,\"#46039f\"],[0.2222222222222222,\"#7201a8\"],[0.3333333333333333,\"#9c179e\"],[0.4444444444444444,\"#bd3786\"],[0.5555555555555556,\"#d8576b\"],[0.6666666666666666,\"#ed7953\"],[0.7777777777777778,\"#fb9f3a\"],[0.8888888888888888,\"#fdca26\"],[1.0,\"#f0f921\"]]}],\"heatmapgl\":[{\"type\":\"heatmapgl\",\"colorbar\":{\"outlinewidth\":0,\"ticks\":\"\"},\"colorscale\":[[0.0,\"#0d0887\"],[0.1111111111111111,\"#46039f\"],[0.2222222222222222,\"#7201a8\"],[0.3333333333333333,\"#9c179e\"],[0.4444444444444444,\"#bd3786\"],[0.5555555555555556,\"#d8576b\"],[0.6666666666666666,\"#ed7953\"],[0.7777777777777778,\"#fb9f3a\"],[0.8888888888888888,\"#fdca26\"],[1.0,\"#f0f921\"]]}],\"contourcarpet\":[{\"type\":\"contourcarpet\",\"colorbar\":{\"outlinewidth\":0,\"ticks\":\"\"}}],\"contour\":[{\"type\":\"contour\",\"colorbar\":{\"outlinewidth\":0,\"ticks\":\"\"},\"colorscale\":[[0.0,\"#0d0887\"],[0.1111111111111111,\"#46039f\"],[0.2222222222222222,\"#7201a8\"],[0.3333333333333333,\"#9c179e\"],[0.4444444444444444,\"#bd3786\"],[0.5555555555555556,\"#d8576b\"],[0.6666666666666666,\"#ed7953\"],[0.7777777777777778,\"#fb9f3a\"],[0.8888888888888888,\"#fdca26\"],[1.0,\"#f0f921\"]]}],\"surface\":[{\"type\":\"surface\",\"colorbar\":{\"outlinewidth\":0,\"ticks\":\"\"},\"colorscale\":[[0.0,\"#0d0887\"],[0.1111111111111111,\"#46039f\"],[0.2222222222222222,\"#7201a8\"],[0.3333333333333333,\"#9c179e\"],[0.4444444444444444,\"#bd3786\"],[0.5555555555555556,\"#d8576b\"],[0.6666666666666666,\"#ed7953\"],[0.7777777777777778,\"#fb9f3a\"],[0.8888888888888888,\"#fdca26\"],[1.0,\"#f0f921\"]]}],\"mesh3d\":[{\"type\":\"mesh3d\",\"colorbar\":{\"outlinewidth\":0,\"ticks\":\"\"}}],\"scatter\":[{\"fillpattern\":{\"fillmode\":\"overlay\",\"size\":10,\"solidity\":0.2},\"type\":\"scatter\"}],\"parcoords\":[{\"type\":\"parcoords\",\"line\":{\"colorbar\":{\"outlinewidth\":0,\"ticks\":\"\"}}}],\"scatterpolargl\":[{\"type\":\"scatterpolargl\",\"marker\":{\"colorbar\":{\"outlinewidth\":0,\"ticks\":\"\"}}}],\"bar\":[{\"error_x\":{\"color\":\"#2a3f5f\"},\"error_y\":{\"color\":\"#2a3f5f\"},\"marker\":{\"line\":{\"color\":\"#E5ECF6\",\"width\":0.5},\"pattern\":{\"fillmode\":\"overlay\",\"size\":10,\"solidity\":0.2}},\"type\":\"bar\"}],\"scattergeo\":[{\"type\":\"scattergeo\",\"marker\":{\"colorbar\":{\"outlinewidth\":0,\"ticks\":\"\"}}}],\"scatterpolar\":[{\"type\":\"scatterpolar\",\"marker\":{\"colorbar\":{\"outlinewidth\":0,\"ticks\":\"\"}}}],\"histogram\":[{\"marker\":{\"pattern\":{\"fillmode\":\"overlay\",\"size\":10,\"solidity\":0.2}},\"type\":\"histogram\"}],\"scattergl\":[{\"type\":\"scattergl\",\"marker\":{\"colorbar\":{\"outlinewidth\":0,\"ticks\":\"\"}}}],\"scatter3d\":[{\"type\":\"scatter3d\",\"line\":{\"colorbar\":{\"outlinewidth\":0,\"ticks\":\"\"}},\"marker\":{\"colorbar\":{\"outlinewidth\":0,\"ticks\":\"\"}}}],\"scattermapbox\":[{\"type\":\"scattermapbox\",\"marker\":{\"colorbar\":{\"outlinewidth\":0,\"ticks\":\"\"}}}],\"scatterternary\":[{\"type\":\"scatterternary\",\"marker\":{\"colorbar\":{\"outlinewidth\":0,\"ticks\":\"\"}}}],\"scattercarpet\":[{\"type\":\"scattercarpet\",\"marker\":{\"colorbar\":{\"outlinewidth\":0,\"ticks\":\"\"}}}],\"carpet\":[{\"aaxis\":{\"endlinecolor\":\"#2a3f5f\",\"gridcolor\":\"white\",\"linecolor\":\"white\",\"minorgridcolor\":\"white\",\"startlinecolor\":\"#2a3f5f\"},\"baxis\":{\"endlinecolor\":\"#2a3f5f\",\"gridcolor\":\"white\",\"linecolor\":\"white\",\"minorgridcolor\":\"white\",\"startlinecolor\":\"#2a3f5f\"},\"type\":\"carpet\"}],\"table\":[{\"cells\":{\"fill\":{\"color\":\"#EBF0F8\"},\"line\":{\"color\":\"white\"}},\"header\":{\"fill\":{\"color\":\"#C8D4E3\"},\"line\":{\"color\":\"white\"}},\"type\":\"table\"}],\"barpolar\":[{\"marker\":{\"line\":{\"color\":\"#E5ECF6\",\"width\":0.5},\"pattern\":{\"fillmode\":\"overlay\",\"size\":10,\"solidity\":0.2}},\"type\":\"barpolar\"}],\"pie\":[{\"automargin\":true,\"type\":\"pie\"}]},\"layout\":{\"autotypenumbers\":\"strict\",\"colorway\":[\"#636efa\",\"#EF553B\",\"#00cc96\",\"#ab63fa\",\"#FFA15A\",\"#19d3f3\",\"#FF6692\",\"#B6E880\",\"#FF97FF\",\"#FECB52\"],\"font\":{\"color\":\"#2a3f5f\"},\"hovermode\":\"closest\",\"hoverlabel\":{\"align\":\"left\"},\"paper_bgcolor\":\"white\",\"plot_bgcolor\":\"#E5ECF6\",\"polar\":{\"bgcolor\":\"#E5ECF6\",\"angularaxis\":{\"gridcolor\":\"white\",\"linecolor\":\"white\",\"ticks\":\"\"},\"radialaxis\":{\"gridcolor\":\"white\",\"linecolor\":\"white\",\"ticks\":\"\"}},\"ternary\":{\"bgcolor\":\"#E5ECF6\",\"aaxis\":{\"gridcolor\":\"white\",\"linecolor\":\"white\",\"ticks\":\"\"},\"baxis\":{\"gridcolor\":\"white\",\"linecolor\":\"white\",\"ticks\":\"\"},\"caxis\":{\"gridcolor\":\"white\",\"linecolor\":\"white\",\"ticks\":\"\"}},\"coloraxis\":{\"colorbar\":{\"outlinewidth\":0,\"ticks\":\"\"}},\"colorscale\":{\"sequential\":[[0.0,\"#0d0887\"],[0.1111111111111111,\"#46039f\"],[0.2222222222222222,\"#7201a8\"],[0.3333333333333333,\"#9c179e\"],[0.4444444444444444,\"#bd3786\"],[0.5555555555555556,\"#d8576b\"],[0.6666666666666666,\"#ed7953\"],[0.7777777777777778,\"#fb9f3a\"],[0.8888888888888888,\"#fdca26\"],[1.0,\"#f0f921\"]],\"sequentialminus\":[[0.0,\"#0d0887\"],[0.1111111111111111,\"#46039f\"],[0.2222222222222222,\"#7201a8\"],[0.3333333333333333,\"#9c179e\"],[0.4444444444444444,\"#bd3786\"],[0.5555555555555556,\"#d8576b\"],[0.6666666666666666,\"#ed7953\"],[0.7777777777777778,\"#fb9f3a\"],[0.8888888888888888,\"#fdca26\"],[1.0,\"#f0f921\"]],\"diverging\":[[0,\"#8e0152\"],[0.1,\"#c51b7d\"],[0.2,\"#de77ae\"],[0.3,\"#f1b6da\"],[0.4,\"#fde0ef\"],[0.5,\"#f7f7f7\"],[0.6,\"#e6f5d0\"],[0.7,\"#b8e186\"],[0.8,\"#7fbc41\"],[0.9,\"#4d9221\"],[1,\"#276419\"]]},\"xaxis\":{\"gridcolor\":\"white\",\"linecolor\":\"white\",\"ticks\":\"\",\"title\":{\"standoff\":15},\"zerolinecolor\":\"white\",\"automargin\":true,\"zerolinewidth\":2},\"yaxis\":{\"gridcolor\":\"white\",\"linecolor\":\"white\",\"ticks\":\"\",\"title\":{\"standoff\":15},\"zerolinecolor\":\"white\",\"automargin\":true,\"zerolinewidth\":2},\"scene\":{\"xaxis\":{\"backgroundcolor\":\"#E5ECF6\",\"gridcolor\":\"white\",\"linecolor\":\"white\",\"showbackground\":true,\"ticks\":\"\",\"zerolinecolor\":\"white\",\"gridwidth\":2},\"yaxis\":{\"backgroundcolor\":\"#E5ECF6\",\"gridcolor\":\"white\",\"linecolor\":\"white\",\"showbackground\":true,\"ticks\":\"\",\"zerolinecolor\":\"white\",\"gridwidth\":2},\"zaxis\":{\"backgroundcolor\":\"#E5ECF6\",\"gridcolor\":\"white\",\"linecolor\":\"white\",\"showbackground\":true,\"ticks\":\"\",\"zerolinecolor\":\"white\",\"gridwidth\":2}},\"shapedefaults\":{\"line\":{\"color\":\"#2a3f5f\"}},\"annotationdefaults\":{\"arrowcolor\":\"#2a3f5f\",\"arrowhead\":0,\"arrowwidth\":1},\"geo\":{\"bgcolor\":\"white\",\"landcolor\":\"#E5ECF6\",\"subunitcolor\":\"white\",\"showland\":true,\"showlakes\":true,\"lakecolor\":\"white\"},\"title\":{\"x\":0.05},\"mapbox\":{\"style\":\"light\"}}},\"geo\":{\"domain\":{\"x\":[0.0,1.0],\"y\":[0.0,1.0]},\"center\":{},\"scope\":\"world\"},\"coloraxis\":{\"colorbar\":{\"title\":{\"text\":\"Total Deaths\"}},\"colorscale\":[[0.0,\"rgb(0,0,0)\"],[0.3333333333333333,\"rgb(230,0,0)\"],[0.6666666666666666,\"rgb(255,210,0)\"],[1.0,\"rgb(255,255,255)\"]]},\"legend\":{\"tracegroupgap\":0,\"itemsizing\":\"constant\"},\"title\":{\"text\":\"Covid-19 Cases of death around the Globe\"}},                        {\"responsive\": true}                    ).then(function(){\n",
       "                            \n",
       "var gd = document.getElementById('c56fddf0-19a0-41a1-8da6-d7e11f930145');\n",
       "var x = new MutationObserver(function (mutations, observer) {{\n",
       "        var display = window.getComputedStyle(gd).display;\n",
       "        if (!display || display === 'none') {{\n",
       "            console.log([gd, 'removed!']);\n",
       "            Plotly.purge(gd);\n",
       "            observer.disconnect();\n",
       "        }}\n",
       "}});\n",
       "\n",
       "// Listen for the removal of the full notebook cells\n",
       "var notebookContainer = gd.closest('#notebook-container');\n",
       "if (notebookContainer) {{\n",
       "    x.observe(notebookContainer, {childList: true});\n",
       "}}\n",
       "\n",
       "// Listen for the clearing of the current output cell\n",
       "var outputEl = gd.closest('.output');\n",
       "if (outputEl) {{\n",
       "    x.observe(outputEl, {childList: true});\n",
       "}}\n",
       "\n",
       "                        })                };                });            </script>        </div>"
      ]
     },
     "metadata": {},
     "output_type": "display_data"
    }
   ],
   "source": [
    "fig = px.scatter_geo(covid, locations='Country',locationmode=\"country names\",scope=\"world\",color=\"Total Deaths\",size=\"Total Deaths\",size_max=45,title=\"Covid-19 Cases of death around the Globe\",color_continuous_scale=\"hot\")\n",
    "fig.show()"
   ]
  },
  {
   "cell_type": "code",
   "execution_count": 144,
   "id": "1c118521",
   "metadata": {},
   "outputs": [
    {
     "data": {
      "application/vnd.plotly.v1+json": {
       "config": {
        "plotlyServerURL": "https://plot.ly"
       },
       "data": [
        {
         "geo": "geo",
         "hovertemplate": "Total Cases=%{marker.color}<br>Country=%{location}<extra></extra>",
         "legendgroup": "",
         "locationmode": "country names",
         "locations": [
          "USA",
          "India",
          "France",
          "Germany",
          "Brazil",
          "Japan",
          "S. Korea",
          "Italy",
          "UK",
          "Russia",
          "Spain",
          "Vietnam",
          "Australia",
          "Argentina",
          "Taiwan",
          "Netherlands",
          "Iran",
          "Mexico",
          "Indonesia",
          "Poland",
          "Colombia",
          "Austria",
          "Greece",
          "Portugal",
          "Ukraine",
          "Chile",
          "Malaysia",
          "Israel",
          "Thailand",
          "Belgium",
          "Czechia",
          "Canada",
          "Peru",
          "Switzerland",
          "Philippines",
          "South Africa",
          "Romania",
          "Denmark",
          "Hong Kong",
          "Sweden",
          "Serbia",
          "Iraq",
          "Singapore",
          "Hungary",
          "New Zealand",
          "Bangladesh",
          "Slovakia",
          "Georgia",
          "Jordan",
          "Ireland",
          "Pakistan",
          "Norway",
          "Finland",
          "Kazakhstan",
          "Slovenia",
          "Lithuania",
          "Bulgaria",
          "Morocco",
          "Croatia",
          "Lebanon",
          "Guatemala",
          "Bolivia",
          "Costa Rica",
          "Cuba",
          "Ecuador",
          "UAE",
          "Uruguay",
          "Panama",
          "Mongolia",
          "Nepal",
          "Belarus",
          "Latvia",
          "Saudi Arabia",
          "Azerbaijan",
          "Bahrain",
          "Sri Lanka",
          "Kuwait",
          "Dominican Republic",
          "Cyprus",
          "Myanmar",
          "Palestine",
          "Estonia",
          "Moldova",
          "Venezuela",
          "Egypt",
          "Libya",
          "China",
          "Ethiopia",
          "Qatar",
          "Réunion",
          "Armenia",
          "Bosnia and Herzegovina",
          "Oman",
          "North Macedonia",
          "Kenya",
          "Zambia",
          "Albania",
          "Botswana",
          "Luxembourg",
          "Montenegro",
          "Brunei",
          "Algeria",
          "Nigeria",
          "Zimbabwe",
          "Uzbekistan",
          "Mozambique",
          "Afghanistan",
          "Kyrgyzstan",
          "El Salvador",
          "Trinidad and Tobago",
          "Maldives",
          "Ghana",
          "Namibia",
          "Uganda",
          "Jamaica",
          "Cambodia",
          "Rwanda",
          "Cameroon",
          "Malta",
          "Barbados",
          "Angola",
          "Channel Islands",
          "French Guiana",
          "DRC",
          "Senegal",
          "Malawi",
          "Ivory Coast",
          "New Caledonia",
          "Eswatini",
          "Guyana",
          "Belize",
          "Fiji",
          "Madagascar",
          "Sudan",
          "Mauritania",
          "Cabo Verde",
          "Bhutan",
          "Syria",
          "Burundi",
          "Gabon",
          "Andorra",
          "Papua New Guinea",
          "Curaçao",
          "Aruba",
          "Mauritius",
          "Togo",
          "Guinea",
          "Bahamas",
          "Lesotho",
          "Haiti",
          "Mali",
          "Cayman Islands",
          "Saint Lucia",
          "Benin",
          "Somalia",
          "Congo",
          "San Marino",
          "Timor-Leste",
          "Burkina Faso",
          "Liechtenstein",
          "Gibraltar",
          "Grenada",
          "Bermuda",
          "South Sudan",
          "Equatorial Guinea",
          "Tonga",
          "Samoa",
          "Monaco",
          "Dominica",
          "Djibouti",
          "CAR",
          "Gambia",
          "Saint Martin",
          "Vanuatu",
          "Greenland",
          "Yemen",
          "Caribbean Netherlands",
          "Sint Maarten",
          "Eritrea",
          "Niger",
          "St. Vincent Grenadines",
          "Antigua and Barbuda",
          "Guinea-Bissau",
          "Liberia",
          "Chad",
          "Cook Islands",
          "Saint Kitts and Nevis",
          "Turks and Caicos",
          "Sao Tome and Principe",
          "Palau",
          "Nauru",
          "Anguilla",
          "Macao",
          "Saint Pierre Miquelon",
          "Wallis and Futuna",
          "Falkland Islands",
          "Montserrat"
         ],
         "marker": {
          "color": [
           104196861,
           44682784,
           39524311,
           37779833,
           36824580,
           32588442,
           30197066,
           25453789,
           24274361,
           21958696,
           13731478,
           11526508,
           11295446,
           10037135,
           9569611,
           8582500,
           7564350,
           7368252,
           6730289,
           6380225,
           6356309,
           5780229,
           5708301,
           5563907,
           5370131,
           5118981,
           5036593,
           4786189,
           4726984,
           4691499,
           4590019,
           4550256,
           4481621,
           4385701,
           4073454,
           4055966,
           3325006,
           3173247,
           2877280,
           2693458,
           2471198,
           2465545,
           2217110,
           2192447,
           2182355,
           2037556,
           1860893,
           1814180,
           1746997,
           1700253,
           1576313,
           1477856,
           1458619,
           1405917,
           1321852,
           1296865,
           1295426,
           1272240,
           1267580,
           1228639,
           1227853,
           1187986,
           1186176,
           1112438,
           1051239,
           1049409,
           1032710,
           1029701,
           1007871,
           1001102,
           994037,
           975355,
           827962,
           827944,
           700452,
           671989,
           662858,
           660095,
           642663,
           633820,
           621008,
           613891,
           598673,
           551587,
           515645,
           507162,
           503302,
           499531,
           492534,
           485895,
           446008,
           401384,
           399449,
           346428,
           342810,
           340763,
           334167,
           329227,
           297757,
           286355,
           275220,
           271378,
           266463,
           261606,
           250567,
           231994,
           208545,
           206592,
           201785,
           187908,
           185715,
           171112,
           170741,
           170400,
           153407,
           138693,
           133090,
           123993,
           117062,
           106157,
           105184,
           101116,
           98028,
           95514,
           88902,
           88559,
           87982,
           79845,
           74133,
           72950,
           70660,
           68820,
           67827,
           63742,
           63665,
           63229,
           62605,
           57453,
           53492,
           48981,
           47839,
           46750,
           45986,
           43993,
           41652,
           39354,
           38240,
           37491,
           34790,
           34076,
           32783,
           31472,
           29803,
           27989,
           27318,
           25375,
           23427,
           23415,
           22025,
           21340,
           20399,
           19680,
           18766,
           18368,
           17190,
           16734,
           16087,
           16056,
           15760,
           15690,
           15368,
           12586,
           12233,
           12014,
           11971,
           11945,
           11661,
           11010,
           10189,
           9931,
           9585,
           9106,
           8947,
           8062,
           7652,
           7011,
           6592,
           6522,
           6280,
           5986,
           4621,
           3904,
           3488,
           3452,
           3427,
           1930,
           1403
          ],
          "coloraxis": "coloraxis",
          "size": [
           104196861,
           44682784,
           39524311,
           37779833,
           36824580,
           32588442,
           30197066,
           25453789,
           24274361,
           21958696,
           13731478,
           11526508,
           11295446,
           10037135,
           9569611,
           8582500,
           7564350,
           7368252,
           6730289,
           6380225,
           6356309,
           5780229,
           5708301,
           5563907,
           5370131,
           5118981,
           5036593,
           4786189,
           4726984,
           4691499,
           4590019,
           4550256,
           4481621,
           4385701,
           4073454,
           4055966,
           3325006,
           3173247,
           2877280,
           2693458,
           2471198,
           2465545,
           2217110,
           2192447,
           2182355,
           2037556,
           1860893,
           1814180,
           1746997,
           1700253,
           1576313,
           1477856,
           1458619,
           1405917,
           1321852,
           1296865,
           1295426,
           1272240,
           1267580,
           1228639,
           1227853,
           1187986,
           1186176,
           1112438,
           1051239,
           1049409,
           1032710,
           1029701,
           1007871,
           1001102,
           994037,
           975355,
           827962,
           827944,
           700452,
           671989,
           662858,
           660095,
           642663,
           633820,
           621008,
           613891,
           598673,
           551587,
           515645,
           507162,
           503302,
           499531,
           492534,
           485895,
           446008,
           401384,
           399449,
           346428,
           342810,
           340763,
           334167,
           329227,
           297757,
           286355,
           275220,
           271378,
           266463,
           261606,
           250567,
           231994,
           208545,
           206592,
           201785,
           187908,
           185715,
           171112,
           170741,
           170400,
           153407,
           138693,
           133090,
           123993,
           117062,
           106157,
           105184,
           101116,
           98028,
           95514,
           88902,
           88559,
           87982,
           79845,
           74133,
           72950,
           70660,
           68820,
           67827,
           63742,
           63665,
           63229,
           62605,
           57453,
           53492,
           48981,
           47839,
           46750,
           45986,
           43993,
           41652,
           39354,
           38240,
           37491,
           34790,
           34076,
           32783,
           31472,
           29803,
           27989,
           27318,
           25375,
           23427,
           23415,
           22025,
           21340,
           20399,
           19680,
           18766,
           18368,
           17190,
           16734,
           16087,
           16056,
           15760,
           15690,
           15368,
           12586,
           12233,
           12014,
           11971,
           11945,
           11661,
           11010,
           10189,
           9931,
           9585,
           9106,
           8947,
           8062,
           7652,
           7011,
           6592,
           6522,
           6280,
           5986,
           4621,
           3904,
           3488,
           3452,
           3427,
           1930,
           1403
          ],
          "sizemode": "area",
          "sizeref": 51455.24,
          "symbol": "circle"
         },
         "mode": "markers",
         "name": "",
         "showlegend": false,
         "type": "scattergeo"
        }
       ],
       "layout": {
        "coloraxis": {
         "colorbar": {
          "title": {
           "text": "Total Cases"
          }
         },
         "colorscale": [
          [
           0,
           "#30123b"
          ],
          [
           0.07142857142857142,
           "#4145ab"
          ],
          [
           0.14285714285714285,
           "#4675ed"
          ],
          [
           0.21428571428571427,
           "#39a2fc"
          ],
          [
           0.2857142857142857,
           "#1bcfd4"
          ],
          [
           0.35714285714285715,
           "#24eca6"
          ],
          [
           0.42857142857142855,
           "#61fc6c"
          ],
          [
           0.5,
           "#a4fc3b"
          ],
          [
           0.5714285714285714,
           "#d1e834"
          ],
          [
           0.6428571428571429,
           "#f3c63a"
          ],
          [
           0.7142857142857143,
           "#fe9b2d"
          ],
          [
           0.7857142857142857,
           "#f36315"
          ],
          [
           0.8571428571428571,
           "#d93806"
          ],
          [
           0.9285714285714286,
           "#b11901"
          ],
          [
           1,
           "#7a0402"
          ]
         ]
        },
        "geo": {
         "center": {},
         "domain": {
          "x": [
           0,
           1
          ],
          "y": [
           0,
           1
          ]
         },
         "scope": "world"
        },
        "legend": {
         "itemsizing": "constant",
         "tracegroupgap": 0
        },
        "template": {
         "data": {
          "bar": [
           {
            "error_x": {
             "color": "#2a3f5f"
            },
            "error_y": {
             "color": "#2a3f5f"
            },
            "marker": {
             "line": {
              "color": "#E5ECF6",
              "width": 0.5
             },
             "pattern": {
              "fillmode": "overlay",
              "size": 10,
              "solidity": 0.2
             }
            },
            "type": "bar"
           }
          ],
          "barpolar": [
           {
            "marker": {
             "line": {
              "color": "#E5ECF6",
              "width": 0.5
             },
             "pattern": {
              "fillmode": "overlay",
              "size": 10,
              "solidity": 0.2
             }
            },
            "type": "barpolar"
           }
          ],
          "carpet": [
           {
            "aaxis": {
             "endlinecolor": "#2a3f5f",
             "gridcolor": "white",
             "linecolor": "white",
             "minorgridcolor": "white",
             "startlinecolor": "#2a3f5f"
            },
            "baxis": {
             "endlinecolor": "#2a3f5f",
             "gridcolor": "white",
             "linecolor": "white",
             "minorgridcolor": "white",
             "startlinecolor": "#2a3f5f"
            },
            "type": "carpet"
           }
          ],
          "choropleth": [
           {
            "colorbar": {
             "outlinewidth": 0,
             "ticks": ""
            },
            "type": "choropleth"
           }
          ],
          "contour": [
           {
            "colorbar": {
             "outlinewidth": 0,
             "ticks": ""
            },
            "colorscale": [
             [
              0,
              "#0d0887"
             ],
             [
              0.1111111111111111,
              "#46039f"
             ],
             [
              0.2222222222222222,
              "#7201a8"
             ],
             [
              0.3333333333333333,
              "#9c179e"
             ],
             [
              0.4444444444444444,
              "#bd3786"
             ],
             [
              0.5555555555555556,
              "#d8576b"
             ],
             [
              0.6666666666666666,
              "#ed7953"
             ],
             [
              0.7777777777777778,
              "#fb9f3a"
             ],
             [
              0.8888888888888888,
              "#fdca26"
             ],
             [
              1,
              "#f0f921"
             ]
            ],
            "type": "contour"
           }
          ],
          "contourcarpet": [
           {
            "colorbar": {
             "outlinewidth": 0,
             "ticks": ""
            },
            "type": "contourcarpet"
           }
          ],
          "heatmap": [
           {
            "colorbar": {
             "outlinewidth": 0,
             "ticks": ""
            },
            "colorscale": [
             [
              0,
              "#0d0887"
             ],
             [
              0.1111111111111111,
              "#46039f"
             ],
             [
              0.2222222222222222,
              "#7201a8"
             ],
             [
              0.3333333333333333,
              "#9c179e"
             ],
             [
              0.4444444444444444,
              "#bd3786"
             ],
             [
              0.5555555555555556,
              "#d8576b"
             ],
             [
              0.6666666666666666,
              "#ed7953"
             ],
             [
              0.7777777777777778,
              "#fb9f3a"
             ],
             [
              0.8888888888888888,
              "#fdca26"
             ],
             [
              1,
              "#f0f921"
             ]
            ],
            "type": "heatmap"
           }
          ],
          "heatmapgl": [
           {
            "colorbar": {
             "outlinewidth": 0,
             "ticks": ""
            },
            "colorscale": [
             [
              0,
              "#0d0887"
             ],
             [
              0.1111111111111111,
              "#46039f"
             ],
             [
              0.2222222222222222,
              "#7201a8"
             ],
             [
              0.3333333333333333,
              "#9c179e"
             ],
             [
              0.4444444444444444,
              "#bd3786"
             ],
             [
              0.5555555555555556,
              "#d8576b"
             ],
             [
              0.6666666666666666,
              "#ed7953"
             ],
             [
              0.7777777777777778,
              "#fb9f3a"
             ],
             [
              0.8888888888888888,
              "#fdca26"
             ],
             [
              1,
              "#f0f921"
             ]
            ],
            "type": "heatmapgl"
           }
          ],
          "histogram": [
           {
            "marker": {
             "pattern": {
              "fillmode": "overlay",
              "size": 10,
              "solidity": 0.2
             }
            },
            "type": "histogram"
           }
          ],
          "histogram2d": [
           {
            "colorbar": {
             "outlinewidth": 0,
             "ticks": ""
            },
            "colorscale": [
             [
              0,
              "#0d0887"
             ],
             [
              0.1111111111111111,
              "#46039f"
             ],
             [
              0.2222222222222222,
              "#7201a8"
             ],
             [
              0.3333333333333333,
              "#9c179e"
             ],
             [
              0.4444444444444444,
              "#bd3786"
             ],
             [
              0.5555555555555556,
              "#d8576b"
             ],
             [
              0.6666666666666666,
              "#ed7953"
             ],
             [
              0.7777777777777778,
              "#fb9f3a"
             ],
             [
              0.8888888888888888,
              "#fdca26"
             ],
             [
              1,
              "#f0f921"
             ]
            ],
            "type": "histogram2d"
           }
          ],
          "histogram2dcontour": [
           {
            "colorbar": {
             "outlinewidth": 0,
             "ticks": ""
            },
            "colorscale": [
             [
              0,
              "#0d0887"
             ],
             [
              0.1111111111111111,
              "#46039f"
             ],
             [
              0.2222222222222222,
              "#7201a8"
             ],
             [
              0.3333333333333333,
              "#9c179e"
             ],
             [
              0.4444444444444444,
              "#bd3786"
             ],
             [
              0.5555555555555556,
              "#d8576b"
             ],
             [
              0.6666666666666666,
              "#ed7953"
             ],
             [
              0.7777777777777778,
              "#fb9f3a"
             ],
             [
              0.8888888888888888,
              "#fdca26"
             ],
             [
              1,
              "#f0f921"
             ]
            ],
            "type": "histogram2dcontour"
           }
          ],
          "mesh3d": [
           {
            "colorbar": {
             "outlinewidth": 0,
             "ticks": ""
            },
            "type": "mesh3d"
           }
          ],
          "parcoords": [
           {
            "line": {
             "colorbar": {
              "outlinewidth": 0,
              "ticks": ""
             }
            },
            "type": "parcoords"
           }
          ],
          "pie": [
           {
            "automargin": true,
            "type": "pie"
           }
          ],
          "scatter": [
           {
            "fillpattern": {
             "fillmode": "overlay",
             "size": 10,
             "solidity": 0.2
            },
            "type": "scatter"
           }
          ],
          "scatter3d": [
           {
            "line": {
             "colorbar": {
              "outlinewidth": 0,
              "ticks": ""
             }
            },
            "marker": {
             "colorbar": {
              "outlinewidth": 0,
              "ticks": ""
             }
            },
            "type": "scatter3d"
           }
          ],
          "scattercarpet": [
           {
            "marker": {
             "colorbar": {
              "outlinewidth": 0,
              "ticks": ""
             }
            },
            "type": "scattercarpet"
           }
          ],
          "scattergeo": [
           {
            "marker": {
             "colorbar": {
              "outlinewidth": 0,
              "ticks": ""
             }
            },
            "type": "scattergeo"
           }
          ],
          "scattergl": [
           {
            "marker": {
             "colorbar": {
              "outlinewidth": 0,
              "ticks": ""
             }
            },
            "type": "scattergl"
           }
          ],
          "scattermapbox": [
           {
            "marker": {
             "colorbar": {
              "outlinewidth": 0,
              "ticks": ""
             }
            },
            "type": "scattermapbox"
           }
          ],
          "scatterpolar": [
           {
            "marker": {
             "colorbar": {
              "outlinewidth": 0,
              "ticks": ""
             }
            },
            "type": "scatterpolar"
           }
          ],
          "scatterpolargl": [
           {
            "marker": {
             "colorbar": {
              "outlinewidth": 0,
              "ticks": ""
             }
            },
            "type": "scatterpolargl"
           }
          ],
          "scatterternary": [
           {
            "marker": {
             "colorbar": {
              "outlinewidth": 0,
              "ticks": ""
             }
            },
            "type": "scatterternary"
           }
          ],
          "surface": [
           {
            "colorbar": {
             "outlinewidth": 0,
             "ticks": ""
            },
            "colorscale": [
             [
              0,
              "#0d0887"
             ],
             [
              0.1111111111111111,
              "#46039f"
             ],
             [
              0.2222222222222222,
              "#7201a8"
             ],
             [
              0.3333333333333333,
              "#9c179e"
             ],
             [
              0.4444444444444444,
              "#bd3786"
             ],
             [
              0.5555555555555556,
              "#d8576b"
             ],
             [
              0.6666666666666666,
              "#ed7953"
             ],
             [
              0.7777777777777778,
              "#fb9f3a"
             ],
             [
              0.8888888888888888,
              "#fdca26"
             ],
             [
              1,
              "#f0f921"
             ]
            ],
            "type": "surface"
           }
          ],
          "table": [
           {
            "cells": {
             "fill": {
              "color": "#EBF0F8"
             },
             "line": {
              "color": "white"
             }
            },
            "header": {
             "fill": {
              "color": "#C8D4E3"
             },
             "line": {
              "color": "white"
             }
            },
            "type": "table"
           }
          ]
         },
         "layout": {
          "annotationdefaults": {
           "arrowcolor": "#2a3f5f",
           "arrowhead": 0,
           "arrowwidth": 1
          },
          "autotypenumbers": "strict",
          "coloraxis": {
           "colorbar": {
            "outlinewidth": 0,
            "ticks": ""
           }
          },
          "colorscale": {
           "diverging": [
            [
             0,
             "#8e0152"
            ],
            [
             0.1,
             "#c51b7d"
            ],
            [
             0.2,
             "#de77ae"
            ],
            [
             0.3,
             "#f1b6da"
            ],
            [
             0.4,
             "#fde0ef"
            ],
            [
             0.5,
             "#f7f7f7"
            ],
            [
             0.6,
             "#e6f5d0"
            ],
            [
             0.7,
             "#b8e186"
            ],
            [
             0.8,
             "#7fbc41"
            ],
            [
             0.9,
             "#4d9221"
            ],
            [
             1,
             "#276419"
            ]
           ],
           "sequential": [
            [
             0,
             "#0d0887"
            ],
            [
             0.1111111111111111,
             "#46039f"
            ],
            [
             0.2222222222222222,
             "#7201a8"
            ],
            [
             0.3333333333333333,
             "#9c179e"
            ],
            [
             0.4444444444444444,
             "#bd3786"
            ],
            [
             0.5555555555555556,
             "#d8576b"
            ],
            [
             0.6666666666666666,
             "#ed7953"
            ],
            [
             0.7777777777777778,
             "#fb9f3a"
            ],
            [
             0.8888888888888888,
             "#fdca26"
            ],
            [
             1,
             "#f0f921"
            ]
           ],
           "sequentialminus": [
            [
             0,
             "#0d0887"
            ],
            [
             0.1111111111111111,
             "#46039f"
            ],
            [
             0.2222222222222222,
             "#7201a8"
            ],
            [
             0.3333333333333333,
             "#9c179e"
            ],
            [
             0.4444444444444444,
             "#bd3786"
            ],
            [
             0.5555555555555556,
             "#d8576b"
            ],
            [
             0.6666666666666666,
             "#ed7953"
            ],
            [
             0.7777777777777778,
             "#fb9f3a"
            ],
            [
             0.8888888888888888,
             "#fdca26"
            ],
            [
             1,
             "#f0f921"
            ]
           ]
          },
          "colorway": [
           "#636efa",
           "#EF553B",
           "#00cc96",
           "#ab63fa",
           "#FFA15A",
           "#19d3f3",
           "#FF6692",
           "#B6E880",
           "#FF97FF",
           "#FECB52"
          ],
          "font": {
           "color": "#2a3f5f"
          },
          "geo": {
           "bgcolor": "white",
           "lakecolor": "white",
           "landcolor": "#E5ECF6",
           "showlakes": true,
           "showland": true,
           "subunitcolor": "white"
          },
          "hoverlabel": {
           "align": "left"
          },
          "hovermode": "closest",
          "mapbox": {
           "style": "light"
          },
          "paper_bgcolor": "white",
          "plot_bgcolor": "#E5ECF6",
          "polar": {
           "angularaxis": {
            "gridcolor": "white",
            "linecolor": "white",
            "ticks": ""
           },
           "bgcolor": "#E5ECF6",
           "radialaxis": {
            "gridcolor": "white",
            "linecolor": "white",
            "ticks": ""
           }
          },
          "scene": {
           "xaxis": {
            "backgroundcolor": "#E5ECF6",
            "gridcolor": "white",
            "gridwidth": 2,
            "linecolor": "white",
            "showbackground": true,
            "ticks": "",
            "zerolinecolor": "white"
           },
           "yaxis": {
            "backgroundcolor": "#E5ECF6",
            "gridcolor": "white",
            "gridwidth": 2,
            "linecolor": "white",
            "showbackground": true,
            "ticks": "",
            "zerolinecolor": "white"
           },
           "zaxis": {
            "backgroundcolor": "#E5ECF6",
            "gridcolor": "white",
            "gridwidth": 2,
            "linecolor": "white",
            "showbackground": true,
            "ticks": "",
            "zerolinecolor": "white"
           }
          },
          "shapedefaults": {
           "line": {
            "color": "#2a3f5f"
           }
          },
          "ternary": {
           "aaxis": {
            "gridcolor": "white",
            "linecolor": "white",
            "ticks": ""
           },
           "baxis": {
            "gridcolor": "white",
            "linecolor": "white",
            "ticks": ""
           },
           "bgcolor": "#E5ECF6",
           "caxis": {
            "gridcolor": "white",
            "linecolor": "white",
            "ticks": ""
           }
          },
          "title": {
           "x": 0.05
          },
          "xaxis": {
           "automargin": true,
           "gridcolor": "white",
           "linecolor": "white",
           "ticks": "",
           "title": {
            "standoff": 15
           },
           "zerolinecolor": "white",
           "zerolinewidth": 2
          },
          "yaxis": {
           "automargin": true,
           "gridcolor": "white",
           "linecolor": "white",
           "ticks": "",
           "title": {
            "standoff": 15
           },
           "zerolinecolor": "white",
           "zerolinewidth": 2
          }
         }
        },
        "title": {
         "text": "Covid-19 recovery around the Globe"
        }
       }
      },
      "text/html": [
       "<div>                            <div id=\"552f912c-e909-4b9c-9d25-f5321b3cbef7\" class=\"plotly-graph-div\" style=\"height:525px; width:100%;\"></div>            <script type=\"text/javascript\">                require([\"plotly\"], function(Plotly) {                    window.PLOTLYENV=window.PLOTLYENV || {};                                    if (document.getElementById(\"552f912c-e909-4b9c-9d25-f5321b3cbef7\")) {                    Plotly.newPlot(                        \"552f912c-e909-4b9c-9d25-f5321b3cbef7\",                        [{\"geo\":\"geo\",\"hovertemplate\":\"Total Cases=%{marker.color}<br>Country=%{location}<extra></extra>\",\"legendgroup\":\"\",\"locationmode\":\"country names\",\"locations\":[\"USA\",\"India\",\"France\",\"Germany\",\"Brazil\",\"Japan\",\"S. Korea\",\"Italy\",\"UK\",\"Russia\",\"Spain\",\"Vietnam\",\"Australia\",\"Argentina\",\"Taiwan\",\"Netherlands\",\"Iran\",\"Mexico\",\"Indonesia\",\"Poland\",\"Colombia\",\"Austria\",\"Greece\",\"Portugal\",\"Ukraine\",\"Chile\",\"Malaysia\",\"Israel\",\"Thailand\",\"Belgium\",\"Czechia\",\"Canada\",\"Peru\",\"Switzerland\",\"Philippines\",\"South Africa\",\"Romania\",\"Denmark\",\"Hong Kong\",\"Sweden\",\"Serbia\",\"Iraq\",\"Singapore\",\"Hungary\",\"New Zealand\",\"Bangladesh\",\"Slovakia\",\"Georgia\",\"Jordan\",\"Ireland\",\"Pakistan\",\"Norway\",\"Finland\",\"Kazakhstan\",\"Slovenia\",\"Lithuania\",\"Bulgaria\",\"Morocco\",\"Croatia\",\"Lebanon\",\"Guatemala\",\"Bolivia\",\"Costa Rica\",\"Cuba\",\"Ecuador\",\"UAE\",\"Uruguay\",\"Panama\",\"Mongolia\",\"Nepal\",\"Belarus\",\"Latvia\",\"Saudi Arabia\",\"Azerbaijan\",\"Bahrain\",\"Sri Lanka\",\"Kuwait\",\"Dominican Republic\",\"Cyprus\",\"Myanmar\",\"Palestine\",\"Estonia\",\"Moldova\",\"Venezuela\",\"Egypt\",\"Libya\",\"China\",\"Ethiopia\",\"Qatar\",\"R\\u00e9union\",\"Armenia\",\"Bosnia and Herzegovina\",\"Oman\",\"North Macedonia\",\"Kenya\",\"Zambia\",\"Albania\",\"Botswana\",\"Luxembourg\",\"Montenegro\",\"Brunei\",\"Algeria\",\"Nigeria\",\"Zimbabwe\",\"Uzbekistan\",\"Mozambique\",\"Afghanistan\",\"Kyrgyzstan\",\"El Salvador\",\"Trinidad and Tobago\",\"Maldives\",\"Ghana\",\"Namibia\",\"Uganda\",\"Jamaica\",\"Cambodia\",\"Rwanda\",\"Cameroon\",\"Malta\",\"Barbados\",\"Angola\",\"Channel Islands\",\"French Guiana\",\"DRC\",\"Senegal\",\"Malawi\",\"Ivory Coast\",\"New Caledonia\",\"Eswatini\",\"Guyana\",\"Belize\",\"Fiji\",\"Madagascar\",\"Sudan\",\"Mauritania\",\"Cabo Verde\",\"Bhutan\",\"Syria\",\"Burundi\",\"Gabon\",\"Andorra\",\"Papua New Guinea\",\"Cura\\u00e7ao\",\"Aruba\",\"Mauritius\",\"Togo\",\"Guinea\",\"Bahamas\",\"Lesotho\",\"Haiti\",\"Mali\",\"Cayman Islands\",\"Saint Lucia\",\"Benin\",\"Somalia\",\"Congo\",\"San Marino\",\"Timor-Leste\",\"Burkina Faso\",\"Liechtenstein\",\"Gibraltar\",\"Grenada\",\"Bermuda\",\"South Sudan\",\"Equatorial Guinea\",\"Tonga\",\"Samoa\",\"Monaco\",\"Dominica\",\"Djibouti\",\"CAR\",\"Gambia\",\"Saint Martin\",\"Vanuatu\",\"Greenland\",\"Yemen\",\"Caribbean Netherlands\",\"Sint Maarten\",\"Eritrea\",\"Niger\",\"St. Vincent Grenadines\",\"Antigua and Barbuda\",\"Guinea-Bissau\",\"Liberia\",\"Chad\",\"Cook Islands\",\"Saint Kitts and Nevis\",\"Turks and Caicos\",\"Sao Tome and Principe\",\"Palau\",\"Nauru\",\"Anguilla\",\"Macao\",\"Saint Pierre Miquelon\",\"Wallis and Futuna\",\"Falkland Islands\",\"Montserrat\"],\"marker\":{\"color\":[104196861.0,44682784.0,39524311.0,37779833.0,36824580.0,32588442.0,30197066.0,25453789.0,24274361.0,21958696.0,13731478.0,11526508.0,11295446.0,10037135.0,9569611.0,8582500.0,7564350.0,7368252.0,6730289.0,6380225.0,6356309.0,5780229.0,5708301.0,5563907.0,5370131.0,5118981.0,5036593.0,4786189.0,4726984.0,4691499.0,4590019.0,4550256.0,4481621.0,4385701.0,4073454.0,4055966.0,3325006.0,3173247.0,2877280.0,2693458.0,2471198.0,2465545.0,2217110.0,2192447.0,2182355.0,2037556.0,1860893.0,1814180.0,1746997.0,1700253.0,1576313.0,1477856.0,1458619.0,1405917.0,1321852.0,1296865.0,1295426.0,1272240.0,1267580.0,1228639.0,1227853.0,1187986.0,1186176.0,1112438.0,1051239.0,1049409.0,1032710.0,1029701.0,1007871.0,1001102.0,994037.0,975355.0,827962.0,827944.0,700452.0,671989.0,662858.0,660095.0,642663.0,633820.0,621008.0,613891.0,598673.0,551587.0,515645.0,507162.0,503302.0,499531.0,492534.0,485895.0,446008.0,401384.0,399449.0,346428.0,342810.0,340763.0,334167.0,329227.0,297757.0,286355.0,275220.0,271378.0,266463.0,261606.0,250567.0,231994.0,208545.0,206592.0,201785.0,187908.0,185715.0,171112.0,170741.0,170400.0,153407.0,138693.0,133090.0,123993.0,117062.0,106157.0,105184.0,101116.0,98028.0,95514.0,88902.0,88559.0,87982.0,79845.0,74133.0,72950.0,70660.0,68820.0,67827.0,63742.0,63665.0,63229.0,62605.0,57453.0,53492.0,48981.0,47839.0,46750.0,45986.0,43993.0,41652.0,39354.0,38240.0,37491.0,34790.0,34076.0,32783.0,31472.0,29803.0,27989.0,27318.0,25375.0,23427.0,23415.0,22025.0,21340.0,20399.0,19680.0,18766.0,18368.0,17190.0,16734.0,16087.0,16056.0,15760.0,15690.0,15368.0,12586.0,12233.0,12014.0,11971.0,11945.0,11661.0,11010.0,10189.0,9931.0,9585.0,9106.0,8947.0,8062.0,7652.0,7011.0,6592.0,6522.0,6280.0,5986.0,4621.0,3904.0,3488.0,3452.0,3427.0,1930.0,1403.0],\"coloraxis\":\"coloraxis\",\"size\":[104196861.0,44682784.0,39524311.0,37779833.0,36824580.0,32588442.0,30197066.0,25453789.0,24274361.0,21958696.0,13731478.0,11526508.0,11295446.0,10037135.0,9569611.0,8582500.0,7564350.0,7368252.0,6730289.0,6380225.0,6356309.0,5780229.0,5708301.0,5563907.0,5370131.0,5118981.0,5036593.0,4786189.0,4726984.0,4691499.0,4590019.0,4550256.0,4481621.0,4385701.0,4073454.0,4055966.0,3325006.0,3173247.0,2877280.0,2693458.0,2471198.0,2465545.0,2217110.0,2192447.0,2182355.0,2037556.0,1860893.0,1814180.0,1746997.0,1700253.0,1576313.0,1477856.0,1458619.0,1405917.0,1321852.0,1296865.0,1295426.0,1272240.0,1267580.0,1228639.0,1227853.0,1187986.0,1186176.0,1112438.0,1051239.0,1049409.0,1032710.0,1029701.0,1007871.0,1001102.0,994037.0,975355.0,827962.0,827944.0,700452.0,671989.0,662858.0,660095.0,642663.0,633820.0,621008.0,613891.0,598673.0,551587.0,515645.0,507162.0,503302.0,499531.0,492534.0,485895.0,446008.0,401384.0,399449.0,346428.0,342810.0,340763.0,334167.0,329227.0,297757.0,286355.0,275220.0,271378.0,266463.0,261606.0,250567.0,231994.0,208545.0,206592.0,201785.0,187908.0,185715.0,171112.0,170741.0,170400.0,153407.0,138693.0,133090.0,123993.0,117062.0,106157.0,105184.0,101116.0,98028.0,95514.0,88902.0,88559.0,87982.0,79845.0,74133.0,72950.0,70660.0,68820.0,67827.0,63742.0,63665.0,63229.0,62605.0,57453.0,53492.0,48981.0,47839.0,46750.0,45986.0,43993.0,41652.0,39354.0,38240.0,37491.0,34790.0,34076.0,32783.0,31472.0,29803.0,27989.0,27318.0,25375.0,23427.0,23415.0,22025.0,21340.0,20399.0,19680.0,18766.0,18368.0,17190.0,16734.0,16087.0,16056.0,15760.0,15690.0,15368.0,12586.0,12233.0,12014.0,11971.0,11945.0,11661.0,11010.0,10189.0,9931.0,9585.0,9106.0,8947.0,8062.0,7652.0,7011.0,6592.0,6522.0,6280.0,5986.0,4621.0,3904.0,3488.0,3452.0,3427.0,1930.0,1403.0],\"sizemode\":\"area\",\"sizeref\":51455.24,\"symbol\":\"circle\"},\"mode\":\"markers\",\"name\":\"\",\"showlegend\":false,\"type\":\"scattergeo\"}],                        {\"template\":{\"data\":{\"histogram2dcontour\":[{\"type\":\"histogram2dcontour\",\"colorbar\":{\"outlinewidth\":0,\"ticks\":\"\"},\"colorscale\":[[0.0,\"#0d0887\"],[0.1111111111111111,\"#46039f\"],[0.2222222222222222,\"#7201a8\"],[0.3333333333333333,\"#9c179e\"],[0.4444444444444444,\"#bd3786\"],[0.5555555555555556,\"#d8576b\"],[0.6666666666666666,\"#ed7953\"],[0.7777777777777778,\"#fb9f3a\"],[0.8888888888888888,\"#fdca26\"],[1.0,\"#f0f921\"]]}],\"choropleth\":[{\"type\":\"choropleth\",\"colorbar\":{\"outlinewidth\":0,\"ticks\":\"\"}}],\"histogram2d\":[{\"type\":\"histogram2d\",\"colorbar\":{\"outlinewidth\":0,\"ticks\":\"\"},\"colorscale\":[[0.0,\"#0d0887\"],[0.1111111111111111,\"#46039f\"],[0.2222222222222222,\"#7201a8\"],[0.3333333333333333,\"#9c179e\"],[0.4444444444444444,\"#bd3786\"],[0.5555555555555556,\"#d8576b\"],[0.6666666666666666,\"#ed7953\"],[0.7777777777777778,\"#fb9f3a\"],[0.8888888888888888,\"#fdca26\"],[1.0,\"#f0f921\"]]}],\"heatmap\":[{\"type\":\"heatmap\",\"colorbar\":{\"outlinewidth\":0,\"ticks\":\"\"},\"colorscale\":[[0.0,\"#0d0887\"],[0.1111111111111111,\"#46039f\"],[0.2222222222222222,\"#7201a8\"],[0.3333333333333333,\"#9c179e\"],[0.4444444444444444,\"#bd3786\"],[0.5555555555555556,\"#d8576b\"],[0.6666666666666666,\"#ed7953\"],[0.7777777777777778,\"#fb9f3a\"],[0.8888888888888888,\"#fdca26\"],[1.0,\"#f0f921\"]]}],\"heatmapgl\":[{\"type\":\"heatmapgl\",\"colorbar\":{\"outlinewidth\":0,\"ticks\":\"\"},\"colorscale\":[[0.0,\"#0d0887\"],[0.1111111111111111,\"#46039f\"],[0.2222222222222222,\"#7201a8\"],[0.3333333333333333,\"#9c179e\"],[0.4444444444444444,\"#bd3786\"],[0.5555555555555556,\"#d8576b\"],[0.6666666666666666,\"#ed7953\"],[0.7777777777777778,\"#fb9f3a\"],[0.8888888888888888,\"#fdca26\"],[1.0,\"#f0f921\"]]}],\"contourcarpet\":[{\"type\":\"contourcarpet\",\"colorbar\":{\"outlinewidth\":0,\"ticks\":\"\"}}],\"contour\":[{\"type\":\"contour\",\"colorbar\":{\"outlinewidth\":0,\"ticks\":\"\"},\"colorscale\":[[0.0,\"#0d0887\"],[0.1111111111111111,\"#46039f\"],[0.2222222222222222,\"#7201a8\"],[0.3333333333333333,\"#9c179e\"],[0.4444444444444444,\"#bd3786\"],[0.5555555555555556,\"#d8576b\"],[0.6666666666666666,\"#ed7953\"],[0.7777777777777778,\"#fb9f3a\"],[0.8888888888888888,\"#fdca26\"],[1.0,\"#f0f921\"]]}],\"surface\":[{\"type\":\"surface\",\"colorbar\":{\"outlinewidth\":0,\"ticks\":\"\"},\"colorscale\":[[0.0,\"#0d0887\"],[0.1111111111111111,\"#46039f\"],[0.2222222222222222,\"#7201a8\"],[0.3333333333333333,\"#9c179e\"],[0.4444444444444444,\"#bd3786\"],[0.5555555555555556,\"#d8576b\"],[0.6666666666666666,\"#ed7953\"],[0.7777777777777778,\"#fb9f3a\"],[0.8888888888888888,\"#fdca26\"],[1.0,\"#f0f921\"]]}],\"mesh3d\":[{\"type\":\"mesh3d\",\"colorbar\":{\"outlinewidth\":0,\"ticks\":\"\"}}],\"scatter\":[{\"fillpattern\":{\"fillmode\":\"overlay\",\"size\":10,\"solidity\":0.2},\"type\":\"scatter\"}],\"parcoords\":[{\"type\":\"parcoords\",\"line\":{\"colorbar\":{\"outlinewidth\":0,\"ticks\":\"\"}}}],\"scatterpolargl\":[{\"type\":\"scatterpolargl\",\"marker\":{\"colorbar\":{\"outlinewidth\":0,\"ticks\":\"\"}}}],\"bar\":[{\"error_x\":{\"color\":\"#2a3f5f\"},\"error_y\":{\"color\":\"#2a3f5f\"},\"marker\":{\"line\":{\"color\":\"#E5ECF6\",\"width\":0.5},\"pattern\":{\"fillmode\":\"overlay\",\"size\":10,\"solidity\":0.2}},\"type\":\"bar\"}],\"scattergeo\":[{\"type\":\"scattergeo\",\"marker\":{\"colorbar\":{\"outlinewidth\":0,\"ticks\":\"\"}}}],\"scatterpolar\":[{\"type\":\"scatterpolar\",\"marker\":{\"colorbar\":{\"outlinewidth\":0,\"ticks\":\"\"}}}],\"histogram\":[{\"marker\":{\"pattern\":{\"fillmode\":\"overlay\",\"size\":10,\"solidity\":0.2}},\"type\":\"histogram\"}],\"scattergl\":[{\"type\":\"scattergl\",\"marker\":{\"colorbar\":{\"outlinewidth\":0,\"ticks\":\"\"}}}],\"scatter3d\":[{\"type\":\"scatter3d\",\"line\":{\"colorbar\":{\"outlinewidth\":0,\"ticks\":\"\"}},\"marker\":{\"colorbar\":{\"outlinewidth\":0,\"ticks\":\"\"}}}],\"scattermapbox\":[{\"type\":\"scattermapbox\",\"marker\":{\"colorbar\":{\"outlinewidth\":0,\"ticks\":\"\"}}}],\"scatterternary\":[{\"type\":\"scatterternary\",\"marker\":{\"colorbar\":{\"outlinewidth\":0,\"ticks\":\"\"}}}],\"scattercarpet\":[{\"type\":\"scattercarpet\",\"marker\":{\"colorbar\":{\"outlinewidth\":0,\"ticks\":\"\"}}}],\"carpet\":[{\"aaxis\":{\"endlinecolor\":\"#2a3f5f\",\"gridcolor\":\"white\",\"linecolor\":\"white\",\"minorgridcolor\":\"white\",\"startlinecolor\":\"#2a3f5f\"},\"baxis\":{\"endlinecolor\":\"#2a3f5f\",\"gridcolor\":\"white\",\"linecolor\":\"white\",\"minorgridcolor\":\"white\",\"startlinecolor\":\"#2a3f5f\"},\"type\":\"carpet\"}],\"table\":[{\"cells\":{\"fill\":{\"color\":\"#EBF0F8\"},\"line\":{\"color\":\"white\"}},\"header\":{\"fill\":{\"color\":\"#C8D4E3\"},\"line\":{\"color\":\"white\"}},\"type\":\"table\"}],\"barpolar\":[{\"marker\":{\"line\":{\"color\":\"#E5ECF6\",\"width\":0.5},\"pattern\":{\"fillmode\":\"overlay\",\"size\":10,\"solidity\":0.2}},\"type\":\"barpolar\"}],\"pie\":[{\"automargin\":true,\"type\":\"pie\"}]},\"layout\":{\"autotypenumbers\":\"strict\",\"colorway\":[\"#636efa\",\"#EF553B\",\"#00cc96\",\"#ab63fa\",\"#FFA15A\",\"#19d3f3\",\"#FF6692\",\"#B6E880\",\"#FF97FF\",\"#FECB52\"],\"font\":{\"color\":\"#2a3f5f\"},\"hovermode\":\"closest\",\"hoverlabel\":{\"align\":\"left\"},\"paper_bgcolor\":\"white\",\"plot_bgcolor\":\"#E5ECF6\",\"polar\":{\"bgcolor\":\"#E5ECF6\",\"angularaxis\":{\"gridcolor\":\"white\",\"linecolor\":\"white\",\"ticks\":\"\"},\"radialaxis\":{\"gridcolor\":\"white\",\"linecolor\":\"white\",\"ticks\":\"\"}},\"ternary\":{\"bgcolor\":\"#E5ECF6\",\"aaxis\":{\"gridcolor\":\"white\",\"linecolor\":\"white\",\"ticks\":\"\"},\"baxis\":{\"gridcolor\":\"white\",\"linecolor\":\"white\",\"ticks\":\"\"},\"caxis\":{\"gridcolor\":\"white\",\"linecolor\":\"white\",\"ticks\":\"\"}},\"coloraxis\":{\"colorbar\":{\"outlinewidth\":0,\"ticks\":\"\"}},\"colorscale\":{\"sequential\":[[0.0,\"#0d0887\"],[0.1111111111111111,\"#46039f\"],[0.2222222222222222,\"#7201a8\"],[0.3333333333333333,\"#9c179e\"],[0.4444444444444444,\"#bd3786\"],[0.5555555555555556,\"#d8576b\"],[0.6666666666666666,\"#ed7953\"],[0.7777777777777778,\"#fb9f3a\"],[0.8888888888888888,\"#fdca26\"],[1.0,\"#f0f921\"]],\"sequentialminus\":[[0.0,\"#0d0887\"],[0.1111111111111111,\"#46039f\"],[0.2222222222222222,\"#7201a8\"],[0.3333333333333333,\"#9c179e\"],[0.4444444444444444,\"#bd3786\"],[0.5555555555555556,\"#d8576b\"],[0.6666666666666666,\"#ed7953\"],[0.7777777777777778,\"#fb9f3a\"],[0.8888888888888888,\"#fdca26\"],[1.0,\"#f0f921\"]],\"diverging\":[[0,\"#8e0152\"],[0.1,\"#c51b7d\"],[0.2,\"#de77ae\"],[0.3,\"#f1b6da\"],[0.4,\"#fde0ef\"],[0.5,\"#f7f7f7\"],[0.6,\"#e6f5d0\"],[0.7,\"#b8e186\"],[0.8,\"#7fbc41\"],[0.9,\"#4d9221\"],[1,\"#276419\"]]},\"xaxis\":{\"gridcolor\":\"white\",\"linecolor\":\"white\",\"ticks\":\"\",\"title\":{\"standoff\":15},\"zerolinecolor\":\"white\",\"automargin\":true,\"zerolinewidth\":2},\"yaxis\":{\"gridcolor\":\"white\",\"linecolor\":\"white\",\"ticks\":\"\",\"title\":{\"standoff\":15},\"zerolinecolor\":\"white\",\"automargin\":true,\"zerolinewidth\":2},\"scene\":{\"xaxis\":{\"backgroundcolor\":\"#E5ECF6\",\"gridcolor\":\"white\",\"linecolor\":\"white\",\"showbackground\":true,\"ticks\":\"\",\"zerolinecolor\":\"white\",\"gridwidth\":2},\"yaxis\":{\"backgroundcolor\":\"#E5ECF6\",\"gridcolor\":\"white\",\"linecolor\":\"white\",\"showbackground\":true,\"ticks\":\"\",\"zerolinecolor\":\"white\",\"gridwidth\":2},\"zaxis\":{\"backgroundcolor\":\"#E5ECF6\",\"gridcolor\":\"white\",\"linecolor\":\"white\",\"showbackground\":true,\"ticks\":\"\",\"zerolinecolor\":\"white\",\"gridwidth\":2}},\"shapedefaults\":{\"line\":{\"color\":\"#2a3f5f\"}},\"annotationdefaults\":{\"arrowcolor\":\"#2a3f5f\",\"arrowhead\":0,\"arrowwidth\":1},\"geo\":{\"bgcolor\":\"white\",\"landcolor\":\"#E5ECF6\",\"subunitcolor\":\"white\",\"showland\":true,\"showlakes\":true,\"lakecolor\":\"white\"},\"title\":{\"x\":0.05},\"mapbox\":{\"style\":\"light\"}}},\"geo\":{\"domain\":{\"x\":[0.0,1.0],\"y\":[0.0,1.0]},\"center\":{},\"scope\":\"world\"},\"coloraxis\":{\"colorbar\":{\"title\":{\"text\":\"Total Cases\"}},\"colorscale\":[[0.0,\"#30123b\"],[0.07142857142857142,\"#4145ab\"],[0.14285714285714285,\"#4675ed\"],[0.21428571428571427,\"#39a2fc\"],[0.2857142857142857,\"#1bcfd4\"],[0.35714285714285715,\"#24eca6\"],[0.42857142857142855,\"#61fc6c\"],[0.5,\"#a4fc3b\"],[0.5714285714285714,\"#d1e834\"],[0.6428571428571429,\"#f3c63a\"],[0.7142857142857143,\"#fe9b2d\"],[0.7857142857142857,\"#f36315\"],[0.8571428571428571,\"#d93806\"],[0.9285714285714286,\"#b11901\"],[1.0,\"#7a0402\"]]},\"legend\":{\"tracegroupgap\":0,\"itemsizing\":\"constant\"},\"title\":{\"text\":\"Covid-19 recovery around the Globe\"}},                        {\"responsive\": true}                    ).then(function(){\n",
       "                            \n",
       "var gd = document.getElementById('552f912c-e909-4b9c-9d25-f5321b3cbef7');\n",
       "var x = new MutationObserver(function (mutations, observer) {{\n",
       "        var display = window.getComputedStyle(gd).display;\n",
       "        if (!display || display === 'none') {{\n",
       "            console.log([gd, 'removed!']);\n",
       "            Plotly.purge(gd);\n",
       "            observer.disconnect();\n",
       "        }}\n",
       "}});\n",
       "\n",
       "// Listen for the removal of the full notebook cells\n",
       "var notebookContainer = gd.closest('#notebook-container');\n",
       "if (notebookContainer) {{\n",
       "    x.observe(notebookContainer, {childList: true});\n",
       "}}\n",
       "\n",
       "// Listen for the clearing of the current output cell\n",
       "var outputEl = gd.closest('.output');\n",
       "if (outputEl) {{\n",
       "    x.observe(outputEl, {childList: true});\n",
       "}}\n",
       "\n",
       "                        })                };                });            </script>        </div>"
      ]
     },
     "metadata": {},
     "output_type": "display_data"
    }
   ],
   "source": [
    "fig = px.scatter_geo(covid, locations='Country',locationmode=\"country names\",scope=\"world\",color=\"Total Cases\",size=\"Total Cases\",size_max=45,title=\"Covid-19 recovery around the Globe\",color_continuous_scale='turbo')\n",
    "fig.show()"
   ]
  },
  {
   "cell_type": "code",
   "execution_count": null,
   "id": "db0309ad",
   "metadata": {},
   "outputs": [],
   "source": []
  }
 ],
 "metadata": {
  "kernelspec": {
   "display_name": "Python 3 (ipykernel)",
   "language": "python",
   "name": "python3"
  },
  "language_info": {
   "codemirror_mode": {
    "name": "ipython",
    "version": 3
   },
   "file_extension": ".py",
   "mimetype": "text/x-python",
   "name": "python",
   "nbconvert_exporter": "python",
   "pygments_lexer": "ipython3",
   "version": "3.9.16"
  },
  "toc": {
   "base_numbering": 1,
   "nav_menu": {},
   "number_sections": true,
   "sideBar": true,
   "skip_h1_title": false,
   "title_cell": "Table of Contents",
   "title_sidebar": "Contents",
   "toc_cell": false,
   "toc_position": {},
   "toc_section_display": true,
   "toc_window_display": false
  },
  "varInspector": {
   "cols": {
    "lenName": 16,
    "lenType": 16,
    "lenVar": 40
   },
   "kernels_config": {
    "python": {
     "delete_cmd_postfix": "",
     "delete_cmd_prefix": "del ",
     "library": "var_list.py",
     "varRefreshCmd": "print(var_dic_list())"
    },
    "r": {
     "delete_cmd_postfix": ") ",
     "delete_cmd_prefix": "rm(",
     "library": "var_list.r",
     "varRefreshCmd": "cat(var_dic_list()) "
    }
   },
   "types_to_exclude": [
    "module",
    "function",
    "builtin_function_or_method",
    "instance",
    "_Feature"
   ],
   "window_display": false
  }
 },
 "nbformat": 4,
 "nbformat_minor": 5
}
